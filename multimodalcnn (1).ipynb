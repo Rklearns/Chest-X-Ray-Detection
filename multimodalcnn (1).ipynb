{
 "cells": [
  {
   "cell_type": "code",
   "execution_count": 1,
   "id": "ff968918",
   "metadata": {
    "_cell_guid": "b1076dfc-b9ad-4769-8c92-a6c4dae69d19",
    "_uuid": "8f2839f25d086af736a60e9eeb907d3b93b6e0e5",
    "execution": {
     "iopub.execute_input": "2025-06-05T09:02:49.644901Z",
     "iopub.status.busy": "2025-06-05T09:02:49.644605Z",
     "iopub.status.idle": "2025-06-05T09:03:11.742928Z",
     "shell.execute_reply": "2025-06-05T09:03:11.742116Z"
    },
    "papermill": {
     "duration": 22.10447,
     "end_time": "2025-06-05T09:03:11.744138",
     "exception": false,
     "start_time": "2025-06-05T09:02:49.639668",
     "status": "completed"
    },
    "tags": []
   },
   "outputs": [
    {
     "name": "stdout",
     "output_type": "stream",
     "text": [
      "/kaggle/input/chest-xray-pneumonia/chest_xray/chest_xray/.DS_Store\n",
      "/kaggle/input/chest-xray-pneumonia/chest_xray/chest_xray/val/.DS_Store\n",
      "/kaggle/input/chest-xray-pneumonia/chest_xray/chest_xray/val/PNEUMONIA/person1947_bacteria_4876.jpeg\n",
      "/kaggle/input/chest-xray-pneumonia/chest_xray/chest_xray/val/PNEUMONIA/person1946_bacteria_4875.jpeg\n",
      "/kaggle/input/chest-xray-pneumonia/chest_xray/chest_xray/val/PNEUMONIA/person1952_bacteria_4883.jpeg\n",
      "/kaggle/input/chest-xray-pneumonia/chest_xray/chest_xray/val/PNEUMONIA/person1954_bacteria_4886.jpeg\n",
      "/kaggle/input/chest-xray-pneumonia/chest_xray/chest_xray/val/PNEUMONIA/person1951_bacteria_4882.jpeg\n",
      "/kaggle/input/chest-xray-pneumonia/chest_xray/chest_xray/val/PNEUMONIA/person1946_bacteria_4874.jpeg\n",
      "/kaggle/input/chest-xray-pneumonia/chest_xray/chest_xray/val/PNEUMONIA/person1949_bacteria_4880.jpeg\n",
      "/kaggle/input/chest-xray-pneumonia/chest_xray/chest_xray/val/PNEUMONIA/.DS_Store\n",
      "/kaggle/input/chest-xray-pneumonia/chest_xray/chest_xray/val/NORMAL/NORMAL2-IM-1431-0001.jpeg\n",
      "/kaggle/input/chest-xray-pneumonia/chest_xray/chest_xray/test/.DS_Store\n",
      "/kaggle/input/chest-xray-pneumonia/chest_xray/chest_xray/test/PNEUMONIA/person1676_virus_2892.jpeg\n",
      "/kaggle/input/chest-xray-pneumonia/chest_xray/chest_xray/test/NORMAL/NORMAL2-IM-0336-0001.jpeg\n",
      "/kaggle/input/chest-xray-pneumonia/chest_xray/chest_xray/train/.DS_Store\n",
      "/kaggle/input/chest-xray-pneumonia/chest_xray/chest_xray/train/PNEUMONIA/person1180_virus_2010.jpeg\n",
      "/kaggle/input/chest-xray-pneumonia/chest_xray/chest_xray/train/NORMAL/NORMAL2-IM-0771-0001.jpeg\n",
      "/kaggle/input/chest-xray-pneumonia/chest_xray/__MACOSX/._chest_xray\n",
      "/kaggle/input/chest-xray-pneumonia/chest_xray/__MACOSX/chest_xray/._.DS_Store\n",
      "/kaggle/input/chest-xray-pneumonia/chest_xray/__MACOSX/chest_xray/val/._.DS_Store\n",
      "/kaggle/input/chest-xray-pneumonia/chest_xray/__MACOSX/chest_xray/val/PNEUMONIA/._person1946_bacteria_4875.jpeg\n",
      "/kaggle/input/chest-xray-pneumonia/chest_xray/__MACOSX/chest_xray/val/NORMAL/._NORMAL2-IM-1442-0001.jpeg\n",
      "/kaggle/input/chest-xray-pneumonia/chest_xray/__MACOSX/chest_xray/test/._PNEUMONIA\n",
      "/kaggle/input/chest-xray-pneumonia/chest_xray/__MACOSX/chest_xray/test/PNEUMONIA/._person8_virus_28.jpeg\n",
      "/kaggle/input/chest-xray-pneumonia/chest_xray/__MACOSX/chest_xray/test/NORMAL/._IM-0036-0001.jpeg\n",
      "/kaggle/input/chest-xray-pneumonia/chest_xray/__MACOSX/chest_xray/train/._PNEUMONIA\n",
      "/kaggle/input/chest-xray-pneumonia/chest_xray/__MACOSX/chest_xray/train/PNEUMONIA/._person499_bacteria_2104.jpeg\n",
      "/kaggle/input/chest-xray-pneumonia/chest_xray/__MACOSX/chest_xray/train/NORMAL/._IM-0473-0001.jpeg\n",
      "/kaggle/input/chest-xray-pneumonia/chest_xray/val/PNEUMONIA/person1947_bacteria_4876.jpeg\n",
      "/kaggle/input/chest-xray-pneumonia/chest_xray/val/NORMAL/NORMAL2-IM-1431-0001.jpeg\n",
      "/kaggle/input/chest-xray-pneumonia/chest_xray/test/PNEUMONIA/person1676_virus_2892.jpeg\n",
      "/kaggle/input/chest-xray-pneumonia/chest_xray/test/NORMAL/NORMAL2-IM-0336-0001.jpeg\n",
      "/kaggle/input/chest-xray-pneumonia/chest_xray/train/PNEUMONIA/person1180_virus_2010.jpeg\n",
      "/kaggle/input/chest-xray-pneumonia/chest_xray/train/NORMAL/NORMAL2-IM-0771-0001.jpeg\n"
     ]
    }
   ],
   "source": [
    "# This Python 3 environment comes with many helpful analytics libraries installed\n",
    "# It is defined by the kaggle/python Docker image: https://github.com/kaggle/docker-python\n",
    "# For example, here's several helpful packages to load\n",
    "\n",
    "import numpy as np # linear algebra\n",
    "import pandas as pd # data processing, CSV file I/O (e.g. pd.read_csv)\n",
    "\n",
    "# Input data files are available in the read-only \"../input/\" directory\n",
    "# For example, running this (by clicking run or pressing Shift+Enter) will list all files under the input directory\n",
    "count=0\n",
    "import os\n",
    "for dirname, _, filenames in os.walk('/kaggle/input'):\n",
    "    for filename in filenames:\n",
    "        print(os.path.join(dirname, filename))\n",
    "        count += 1\n",
    "        if count >= 10:\n",
    "            break\n",
    "\n",
    "# You can write up to 20GB to the current directory (/kaggle/working/) that gets preserved as output when you create a version using \"Save & Run All\" \n",
    "# You can also write temporary files to /kaggle/temp/, but they won't be saved outside of the current session"
   ]
  },
  {
   "cell_type": "code",
   "execution_count": 2,
   "id": "114d5fbb",
   "metadata": {
    "execution": {
     "iopub.execute_input": "2025-06-05T09:03:11.753611Z",
     "iopub.status.busy": "2025-06-05T09:03:11.752792Z",
     "iopub.status.idle": "2025-06-05T09:03:27.322206Z",
     "shell.execute_reply": "2025-06-05T09:03:27.321566Z"
    },
    "papermill": {
     "duration": 15.575471,
     "end_time": "2025-06-05T09:03:27.323816",
     "exception": false,
     "start_time": "2025-06-05T09:03:11.748345",
     "status": "completed"
    },
    "tags": []
   },
   "outputs": [
    {
     "name": "stderr",
     "output_type": "stream",
     "text": [
      "2025-06-05 09:03:15.300784: E external/local_xla/xla/stream_executor/cuda/cuda_fft.cc:477] Unable to register cuFFT factory: Attempting to register factory for plugin cuFFT when one has already been registered\n",
      "WARNING: All log messages before absl::InitializeLog() is called are written to STDERR\n",
      "E0000 00:00:1749114195.515417      19 cuda_dnn.cc:8310] Unable to register cuDNN factory: Attempting to register factory for plugin cuDNN when one has already been registered\n",
      "E0000 00:00:1749114195.577960      19 cuda_blas.cc:1418] Unable to register cuBLAS factory: Attempting to register factory for plugin cuBLAS when one has already been registered\n"
     ]
    }
   ],
   "source": [
    "import numpy as np\n",
    "import pandas as pd\n",
    "import matplotlib.pyplot as plt\n",
    "import seaborn as sns\n",
    "from tensorflow import keras\n",
    "from tensorflow.keras.models import Model\n",
    "from tensorflow.keras.layers import Dense, Conv2D, MaxPool2D, Flatten, Dropout, BatchNormalization, Input, Concatenate, Layer\n",
    "from tensorflow.keras.preprocessing.image import ImageDataGenerator\n",
    "from sklearn.model_selection import train_test_split\n",
    "from tensorflow.keras.callbacks import ReduceLROnPlateau\n",
    "import cv2\n",
    "import os\n",
    "from sklearn.metrics import classification_report, confusion_matrix\n",
    "import tensorflow as tf"
   ]
  },
  {
   "cell_type": "code",
   "execution_count": 3,
   "id": "9566362e",
   "metadata": {
    "execution": {
     "iopub.execute_input": "2025-06-05T09:03:27.332902Z",
     "iopub.status.busy": "2025-06-05T09:03:27.332356Z",
     "iopub.status.idle": "2025-06-05T09:03:27.338002Z",
     "shell.execute_reply": "2025-06-05T09:03:27.337233Z"
    },
    "papermill": {
     "duration": 0.011477,
     "end_time": "2025-06-05T09:03:27.339296",
     "exception": false,
     "start_time": "2025-06-05T09:03:27.327819",
     "status": "completed"
    },
    "tags": []
   },
   "outputs": [],
   "source": [
    "labels = ['PNEUMONIA', 'NORMAL']\n",
    "def get_training_data(data_dir):\n",
    "    data = []\n",
    "    for label in labels:\n",
    "        path = os.path.join(data_dir, label)\n",
    "        class_num = labels.index(label)\n",
    "        for img in os.listdir(path):\n",
    "            try:\n",
    "                img_arr = cv2.imread(os.path.join(path, img), cv2.IMREAD_GRAYSCALE)\n",
    "                resized_arr = cv2.resize(img_arr, (150, 150))\n",
    "                data.append([resized_arr, class_num])\n",
    "            except Exception as e:\n",
    "                print(e)\n",
    "    return np.array(data, dtype=object)"
   ]
  },
  {
   "cell_type": "code",
   "execution_count": 4,
   "id": "bbf66ccc",
   "metadata": {
    "execution": {
     "iopub.execute_input": "2025-06-05T09:03:27.347658Z",
     "iopub.status.busy": "2025-06-05T09:03:27.347122Z",
     "iopub.status.idle": "2025-06-05T09:04:37.824003Z",
     "shell.execute_reply": "2025-06-05T09:04:37.823307Z"
    },
    "papermill": {
     "duration": 70.48252,
     "end_time": "2025-06-05T09:04:37.825566",
     "exception": false,
     "start_time": "2025-06-05T09:03:27.343046",
     "status": "completed"
    },
    "tags": []
   },
   "outputs": [],
   "source": [
    "train = get_training_data('/kaggle/input/chest-xray-pneumonia/chest_xray/train')\n",
    "test = get_training_data('/kaggle/input/chest-xray-pneumonia/chest_xray/test')"
   ]
  },
  {
   "cell_type": "code",
   "execution_count": 5,
   "id": "1347b816",
   "metadata": {
    "execution": {
     "iopub.execute_input": "2025-06-05T09:04:37.833758Z",
     "iopub.status.busy": "2025-06-05T09:04:37.833509Z",
     "iopub.status.idle": "2025-06-05T09:04:38.232665Z",
     "shell.execute_reply": "2025-06-05T09:04:38.232041Z"
    },
    "papermill": {
     "duration": 0.404639,
     "end_time": "2025-06-05T09:04:38.234084",
     "exception": false,
     "start_time": "2025-06-05T09:04:37.829445",
     "status": "completed"
    },
    "tags": []
   },
   "outputs": [],
   "source": [
    "x_train = []\n",
    "y_train = []\n",
    "for feature, label in train:\n",
    "    x_train.append(feature)\n",
    "    y_train.append(label)\n",
    "\n",
    "x_test = []\n",
    "y_test = []\n",
    "for feature, label in test:\n",
    "    x_test.append(feature)\n",
    "    y_test.append(label)\n",
    "\n",
    "x_train = np.array(x_train) / 255.0\n",
    "x_test = np.array(x_test) / 255.0\n",
    "\n",
    "img_size = 150\n",
    "x_train = x_train.reshape(-1, img_size, img_size, 1)\n",
    "y_train = np.array(y_train)\n",
    "\n",
    "x_test = x_test.reshape(-1, img_size, img_size, 1)\n",
    "y_test = np.array(y_test)"
   ]
  },
  {
   "cell_type": "code",
   "execution_count": 6,
   "id": "9d8547b5",
   "metadata": {
    "execution": {
     "iopub.execute_input": "2025-06-05T09:04:38.241792Z",
     "iopub.status.busy": "2025-06-05T09:04:38.241570Z",
     "iopub.status.idle": "2025-06-05T09:04:38.589992Z",
     "shell.execute_reply": "2025-06-05T09:04:38.589397Z"
    },
    "papermill": {
     "duration": 0.353635,
     "end_time": "2025-06-05T09:04:38.591304",
     "exception": false,
     "start_time": "2025-06-05T09:04:38.237669",
     "status": "completed"
    },
    "tags": []
   },
   "outputs": [],
   "source": [
    "\n",
    "data_generator = ImageDataGenerator(\n",
    "    featurewise_center=False,\n",
    "    samplewise_center=False,\n",
    "    featurewise_std_normalization=False,\n",
    "    samplewise_std_normalization=False,\n",
    "    zca_whitening=False,\n",
    "    rotation_range=30,\n",
    "    zoom_range=0.1,\n",
    "    width_shift_range=0.1,\n",
    "    height_shift_range=0.1,\n",
    "    horizontal_flip=True,\n",
    ")\n",
    "data_generator.fit(x_train)\n"
   ]
  },
  {
   "cell_type": "code",
   "execution_count": 7,
   "id": "0d6d378f",
   "metadata": {
    "execution": {
     "iopub.execute_input": "2025-06-05T09:04:38.599070Z",
     "iopub.status.busy": "2025-06-05T09:04:38.598848Z",
     "iopub.status.idle": "2025-06-05T09:04:42.124973Z",
     "shell.execute_reply": "2025-06-05T09:04:42.124061Z"
    },
    "papermill": {
     "duration": 3.53119,
     "end_time": "2025-06-05T09:04:42.126300",
     "exception": false,
     "start_time": "2025-06-05T09:04:38.595110",
     "status": "completed"
    },
    "tags": []
   },
   "outputs": [
    {
     "name": "stdout",
     "output_type": "stream",
     "text": [
      "Total training patches: (130400, 50, 50, 1)\n",
      "Total test patches: (15600, 50, 50, 1)\n"
     ]
    }
   ],
   "source": [
    "def extract_patches(image, patch_size=50, stride=25):  # Reduced stride for overlapping patches\n",
    "    patches = []\n",
    "    height, width, channels = image.shape\n",
    "    for i in range(0, height - patch_size + 1, stride):\n",
    "        for j in range(0, width - patch_size + 1, stride):\n",
    "            patch = image[i:i+patch_size, j:j+patch_size, :]\n",
    "            patches.append(patch)\n",
    "    return np.array(patches)\n",
    "\n",
    "\n",
    "patch_size = 50\n",
    "stride = 25  # Overlapping patches\n",
    "num_patches_per_image = ((150 - patch_size) // stride + 1) * ((150 - patch_size) // stride + 1)  # 5x5 = 25 patches per image\n",
    "\n",
    "\n",
    "x_train_patches = []\n",
    "y_train_patches = []\n",
    "for img, label in zip(x_train, y_train):\n",
    "    patches = extract_patches(img, patch_size, stride)\n",
    "    x_train_patches.extend(patches)\n",
    "    y_train_patches.extend([label] * len(patches))\n",
    "\n",
    "\n",
    "x_test_patches = []\n",
    "y_test_patches = []\n",
    "for img, label in zip(x_test, y_test):\n",
    "    patches = extract_patches(img, patch_size, stride)\n",
    "    x_test_patches.extend(patches)\n",
    "    y_test_patches.extend([label] * len(patches))\n",
    "\n",
    "x_train_patches = np.array(x_train_patches)\n",
    "y_train_patches = np.array(y_train_patches)\n",
    "x_test_patches = np.array(x_test_patches)\n",
    "y_test_patches = np.array(y_test_patches)\n",
    "\n",
    "print(f\"Total training patches: {x_train_patches.shape}\")\n",
    "print(f\"Total test patches: {x_test_patches.shape}\")"
   ]
  },
  {
   "cell_type": "code",
   "execution_count": 8,
   "id": "d1d40268",
   "metadata": {
    "execution": {
     "iopub.execute_input": "2025-06-05T09:04:42.134840Z",
     "iopub.status.busy": "2025-06-05T09:04:42.134566Z",
     "iopub.status.idle": "2025-06-05T09:04:44.814695Z",
     "shell.execute_reply": "2025-06-05T09:04:44.813735Z"
    },
    "papermill": {
     "duration": 2.68633,
     "end_time": "2025-06-05T09:04:44.816383",
     "exception": false,
     "start_time": "2025-06-05T09:04:42.130053",
     "status": "completed"
    },
    "tags": []
   },
   "outputs": [
    {
     "name": "stderr",
     "output_type": "stream",
     "text": [
      "I0000 00:00:1749114283.399220      19 gpu_device.cc:2022] Created device /job:localhost/replica:0/task:0/device:GPU:0 with 13942 MB memory:  -> device: 0, name: Tesla T4, pci bus id: 0000:00:04.0, compute capability: 7.5\n",
      "I0000 00:00:1749114283.400041      19 gpu_device.cc:2022] Created device /job:localhost/replica:0/task:0/device:GPU:1 with 13942 MB memory:  -> device: 1, name: Tesla T4, pci bus id: 0000:00:05.0, compute capability: 7.5\n"
     ]
    }
   ],
   "source": [
    "patch_inputs = Input(shape=(patch_size, patch_size, 1))\n",
    "x = Conv2D(64, (3, 3), strides=1, padding='same', activation='relu')(patch_inputs)  \n",
    "x = BatchNormalization()(x)\n",
    "x = MaxPool2D((2, 2), strides=2, padding='same')(x)\n",
    "\n",
    "x = Conv2D(128, (3, 3), strides=1, padding='same', activation='relu')(x)  \n",
    "x = Dropout(0.1)(x)\n",
    "x = BatchNormalization()(x)\n",
    "x = MaxPool2D((2, 2), strides=2, padding='same')(x)\n",
    "\n",
    "x = Conv2D(128, (3, 3), strides=1, padding='same', activation='relu')(x)\n",
    "x = BatchNormalization()(x)\n",
    "x = MaxPool2D((2, 2), strides=2, padding='same')(x)\n",
    "\n",
    "x = Conv2D(256, (3, 3), strides=1, padding='same', activation='relu')(x) \n",
    "x = Dropout(0.2)(x)\n",
    "x = BatchNormalization()(x)\n",
    "x = MaxPool2D((2, 2), strides=2, padding='same')(x)\n",
    "\n",
    "x = Conv2D(256, (3, 3), strides=1, padding='same', activation='relu')(x)\n",
    "x = Dropout(0.2)(x)\n",
    "x = BatchNormalization()(x)\n",
    "x = MaxPool2D((2, 2), strides=2, padding='same')(x)\n",
    "\n",
    "x = Conv2D(512, (3, 3), strides=1, padding='same', activation='relu')(x)  # Additional layer\n",
    "x = Dropout(0.2)(x)\n",
    "x = BatchNormalization()(x)\n",
    "x = MaxPool2D((2, 2), strides=2, padding='same')(x)\n",
    "\n",
    "x = Flatten()(x)\n",
    "patch_outputs = Dense(128, activation='relu')(x)\n",
    "patch_outputs = Dropout(0.2)(patch_outputs)\n",
    "\n",
    "patch_feature_model = Model(inputs=patch_inputs, outputs=patch_outputs)\n"
   ]
  },
  {
   "cell_type": "code",
   "execution_count": 9,
   "id": "f995659f",
   "metadata": {
    "execution": {
     "iopub.execute_input": "2025-06-05T09:04:44.825774Z",
     "iopub.status.busy": "2025-06-05T09:04:44.824988Z",
     "iopub.status.idle": "2025-06-05T09:04:44.955017Z",
     "shell.execute_reply": "2025-06-05T09:04:44.954117Z"
    },
    "papermill": {
     "duration": 0.136288,
     "end_time": "2025-06-05T09:04:44.956708",
     "exception": false,
     "start_time": "2025-06-05T09:04:44.820420",
     "status": "completed"
    },
    "tags": []
   },
   "outputs": [],
   "source": [
    "global_inputs = Input(shape=(img_size, img_size, 1))\n",
    "x = Conv2D(64, (3, 3), strides=1, padding='same', activation='relu')(global_inputs) \n",
    "x = BatchNormalization()(x)\n",
    "x = MaxPool2D((2, 2), strides=2, padding='same')(x)\n",
    "\n",
    "x = Conv2D(128, (3, 3), strides=1, padding='same', activation='relu')(x) \n",
    "x = Dropout(0.1)(x)\n",
    "x = BatchNormalization()(x)\n",
    "x = MaxPool2D((2, 2), strides=2, padding='same')(x)\n",
    "\n",
    "x = Conv2D(128, (3, 3), strides=1, padding='same', activation='relu')(x)\n",
    "x = BatchNormalization()(x)\n",
    "x = MaxPool2D((2, 2), strides=2, padding='same')(x)\n",
    "\n",
    "x = Conv2D(256, (3, 3), strides=1, padding='same', activation='relu')(x)  \n",
    "x = Dropout(0.2)(x)\n",
    "x = BatchNormalization()(x)\n",
    "x = MaxPool2D((2, 2), strides=2, padding='same')(x)\n",
    "\n",
    "x = Conv2D(256, (3, 3), strides=1, padding='same', activation='relu')(x)\n",
    "x = Dropout(0.2)(x)\n",
    "x = BatchNormalization()(x)\n",
    "x = MaxPool2D((2, 2), strides=2, padding='same')(x)\n",
    "\n",
    "x = Conv2D(512, (3, 3), strides=1, padding='same', activation='relu')(x)  # Additional layer\n",
    "x = Dropout(0.2)(x)\n",
    "x = BatchNormalization()(x)\n",
    "x = MaxPool2D((2, 2), strides=2, padding='same')(x)\n",
    "\n",
    "x = Flatten()(x)\n",
    "global_outputs = Dense(256, activation='relu')(x)\n",
    "global_outputs = Dropout(0.2)(global_outputs)\n",
    "\n",
    "global_feature_model = Model(inputs=global_inputs, outputs=global_outputs)"
   ]
  },
  {
   "cell_type": "code",
   "execution_count": 10,
   "id": "11eced6b",
   "metadata": {
    "execution": {
     "iopub.execute_input": "2025-06-05T09:04:44.965826Z",
     "iopub.status.busy": "2025-06-05T09:04:44.965257Z",
     "iopub.status.idle": "2025-06-05T09:05:09.247927Z",
     "shell.execute_reply": "2025-06-05T09:05:09.246863Z"
    },
    "papermill": {
     "duration": 24.28858,
     "end_time": "2025-06-05T09:05:09.249368",
     "exception": false,
     "start_time": "2025-06-05T09:04:44.960788",
     "status": "completed"
    },
    "tags": []
   },
   "outputs": [
    {
     "name": "stderr",
     "output_type": "stream",
     "text": [
      "WARNING: All log messages before absl::InitializeLog() is called are written to STDERR\n",
      "I0000 00:00:1749114288.958743      63 service.cc:148] XLA service 0x7a5d2c005920 initialized for platform CUDA (this does not guarantee that XLA will be used). Devices:\n",
      "I0000 00:00:1749114288.959579      63 service.cc:156]   StreamExecutor device (0): Tesla T4, Compute Capability 7.5\n",
      "I0000 00:00:1749114288.959598      63 service.cc:156]   StreamExecutor device (1): Tesla T4, Compute Capability 7.5\n",
      "I0000 00:00:1749114289.088737      63 cuda_dnn.cc:529] Loaded cuDNN version 90300\n"
     ]
    },
    {
     "name": "stdout",
     "output_type": "stream",
     "text": [
      "\u001b[1m  50/4075\u001b[0m \u001b[37m━━━━━━━━━━━━━━━━━━━━\u001b[0m \u001b[1m12s\u001b[0m 3ms/step"
     ]
    },
    {
     "name": "stderr",
     "output_type": "stream",
     "text": [
      "I0000 00:00:1749114290.634356      63 device_compiler.h:188] Compiled cluster using XLA!  This line is logged at most once for the lifetime of the process.\n"
     ]
    },
    {
     "name": "stdout",
     "output_type": "stream",
     "text": [
      "\u001b[1m4075/4075\u001b[0m \u001b[32m━━━━━━━━━━━━━━━━━━━━\u001b[0m\u001b[37m\u001b[0m \u001b[1m15s\u001b[0m 3ms/step\n",
      "\u001b[1m488/488\u001b[0m \u001b[32m━━━━━━━━━━━━━━━━━━━━\u001b[0m\u001b[37m\u001b[0m \u001b[1m3s\u001b[0m 6ms/step\n",
      "Grouped training patch features shape: (5216, 25, 128)\n",
      "Grouped test patch features shape: (624, 25, 128)\n"
     ]
    }
   ],
   "source": [
    "train_patch_features = patch_feature_model.predict(x_train_patches)\n",
    "test_patch_features = patch_feature_model.predict(x_test_patches)\n",
    "\n",
    "# Normalize patch features\n",
    "patch_mean = np.mean(train_patch_features)\n",
    "patch_std = np.std(train_patch_features)\n",
    "train_patch_features = (train_patch_features - patch_mean) / patch_std\n",
    "test_patch_features = (test_patch_features - patch_mean) / patch_std\n",
    "\n",
    "# Reshape patch features to group by image\n",
    "train_patch_features = train_patch_features.reshape(-1, num_patches_per_image, 128)\n",
    "test_patch_features = test_patch_features.reshape(-1, num_patches_per_image, 128)\n",
    "\n",
    "print(f\"Grouped training patch features shape: {train_patch_features.shape}\")\n",
    "print(f\"Grouped test patch features shape: {test_patch_features.shape}\")"
   ]
  },
  {
   "cell_type": "code",
   "execution_count": 11,
   "id": "fc17d726",
   "metadata": {
    "execution": {
     "iopub.execute_input": "2025-06-05T09:05:09.284766Z",
     "iopub.status.busy": "2025-06-05T09:05:09.284132Z",
     "iopub.status.idle": "2025-06-05T09:05:16.697421Z",
     "shell.execute_reply": "2025-06-05T09:05:16.696556Z"
    },
    "papermill": {
     "duration": 7.431505,
     "end_time": "2025-06-05T09:05:16.698749",
     "exception": false,
     "start_time": "2025-06-05T09:05:09.267244",
     "status": "completed"
    },
    "tags": []
   },
   "outputs": [
    {
     "name": "stdout",
     "output_type": "stream",
     "text": [
      "\u001b[1m163/163\u001b[0m \u001b[32m━━━━━━━━━━━━━━━━━━━━\u001b[0m\u001b[37m\u001b[0m \u001b[1m5s\u001b[0m 16ms/step\n",
      "\u001b[1m20/20\u001b[0m \u001b[32m━━━━━━━━━━━━━━━━━━━━\u001b[0m\u001b[37m\u001b[0m \u001b[1m2s\u001b[0m 98ms/step\n",
      "Training global features shape: (5216, 256)\n",
      "Test global features shape: (624, 256)\n"
     ]
    }
   ],
   "source": [
    "train_global_features = global_feature_model.predict(x_train)\n",
    "test_global_features = global_feature_model.predict(x_test)\n",
    "\n",
    "# Normalize global features\n",
    "global_mean = np.mean(train_global_features)\n",
    "global_std = np.std(train_global_features)\n",
    "train_global_features = (train_global_features - global_mean) / global_std\n",
    "test_global_features = (test_global_features - global_mean) / global_std\n",
    "\n",
    "print(f\"Training global features shape: {train_global_features.shape}\")\n",
    "print(f\"Test global features shape: {test_global_features.shape}\")\n"
   ]
  },
  {
   "cell_type": "code",
   "execution_count": 12,
   "id": "5ce9c6bb",
   "metadata": {
    "execution": {
     "iopub.execute_input": "2025-06-05T09:05:16.737232Z",
     "iopub.status.busy": "2025-06-05T09:05:16.736663Z",
     "iopub.status.idle": "2025-06-05T09:05:16.742031Z",
     "shell.execute_reply": "2025-06-05T09:05:16.741197Z"
    },
    "papermill": {
     "duration": 0.02573,
     "end_time": "2025-06-05T09:05:16.743329",
     "exception": false,
     "start_time": "2025-06-05T09:05:16.717599",
     "status": "completed"
    },
    "tags": []
   },
   "outputs": [],
   "source": [
    "class AttentionLayer(Layer):\n",
    "    def __init__(self, **kwargs):\n",
    "        super(AttentionLayer, self).__init__(**kwargs)\n",
    "        self.dense = Dense(1, activation='tanh')\n",
    "\n",
    "    def call(self, inputs):\n",
    "        attention_scores = self.dense(inputs)  # (batch_size, num_patches, 1)\n",
    "        attention_weights = tf.nn.softmax(attention_scores, axis=1)  # (batch_size, num_patches, 1)\n",
    "        weighted_features = tf.reduce_sum(inputs * attention_weights, axis=1)  # (batch_size, patch_feature_dim)\n",
    "        return weighted_features"
   ]
  },
  {
   "cell_type": "code",
   "execution_count": 13,
   "id": "d2c2af50",
   "metadata": {
    "execution": {
     "iopub.execute_input": "2025-06-05T09:05:16.781024Z",
     "iopub.status.busy": "2025-06-05T09:05:16.780538Z",
     "iopub.status.idle": "2025-06-05T09:05:16.786282Z",
     "shell.execute_reply": "2025-06-05T09:05:16.785476Z"
    },
    "papermill": {
     "duration": 0.026074,
     "end_time": "2025-06-05T09:05:16.787560",
     "exception": false,
     "start_time": "2025-06-05T09:05:16.761486",
     "status": "completed"
    },
    "tags": []
   },
   "outputs": [],
   "source": [
    "def create_guiding_model(num_patches, patch_feature_dim, global_feature_dim):\n",
    "    patch_inputs = Input(shape=(num_patches, patch_feature_dim))\n",
    "    global_inputs = Input(shape=(global_feature_dim,))\n",
    "    \n",
    "    # Attention mechanism\n",
    "    weighted_patch_features = AttentionLayer()(patch_inputs)  # (patch_feature_dim,)\n",
    "    \n",
    "    # Combine global and patch features\n",
    "    combined_features = Concatenate()([weighted_patch_features, global_inputs])  # (patch_feature_dim + global_feature_dim,)\n",
    "    \n",
    "    # Deeper classifier with batch normalization\n",
    "    x = Dense(256, activation='relu')(combined_features)\n",
    "    x = BatchNormalization()(x)\n",
    "    x = Dropout(0.3)(x)\n",
    "    x = Dense(128, activation='relu')(x)\n",
    "    x = BatchNormalization()(x)\n",
    "    x = Dropout(0.3)(x)\n",
    "    outputs = Dense(1, activation='sigmoid')(x)\n",
    "    \n",
    "    model = Model(inputs=[patch_inputs, global_inputs], outputs=outputs)\n",
    "    return model"
   ]
  },
  {
   "cell_type": "code",
   "execution_count": 14,
   "id": "aebec5c0",
   "metadata": {
    "execution": {
     "iopub.execute_input": "2025-06-05T09:05:16.825504Z",
     "iopub.status.busy": "2025-06-05T09:05:16.824764Z",
     "iopub.status.idle": "2025-06-05T09:05:16.984293Z",
     "shell.execute_reply": "2025-06-05T09:05:16.983653Z"
    },
    "papermill": {
     "duration": 0.180343,
     "end_time": "2025-06-05T09:05:16.985558",
     "exception": false,
     "start_time": "2025-06-05T09:05:16.805215",
     "status": "completed"
    },
    "tags": []
   },
   "outputs": [
    {
     "data": {
      "text/html": [
       "<pre style=\"white-space:pre;overflow-x:auto;line-height:normal;font-family:Menlo,'DejaVu Sans Mono',consolas,'Courier New',monospace\"><span style=\"font-weight: bold\">Model: \"functional_2\"</span>\n",
       "</pre>\n"
      ],
      "text/plain": [
       "\u001b[1mModel: \"functional_2\"\u001b[0m\n"
      ]
     },
     "metadata": {},
     "output_type": "display_data"
    },
    {
     "data": {
      "text/html": [
       "<pre style=\"white-space:pre;overflow-x:auto;line-height:normal;font-family:Menlo,'DejaVu Sans Mono',consolas,'Courier New',monospace\">┏━━━━━━━━━━━━━━━━━━━━━━━━━━━┳━━━━━━━━━━━━━━━━━━━━━━━━┳━━━━━━━━━━━━━━━━┳━━━━━━━━━━━━━━━━━━━━━━━━┓\n",
       "┃<span style=\"font-weight: bold\"> Layer (type)              </span>┃<span style=\"font-weight: bold\"> Output Shape           </span>┃<span style=\"font-weight: bold\">        Param # </span>┃<span style=\"font-weight: bold\"> Connected to           </span>┃\n",
       "┡━━━━━━━━━━━━━━━━━━━━━━━━━━━╇━━━━━━━━━━━━━━━━━━━━━━━━╇━━━━━━━━━━━━━━━━╇━━━━━━━━━━━━━━━━━━━━━━━━┩\n",
       "│ input_layer_2             │ (<span style=\"color: #00d7ff; text-decoration-color: #00d7ff\">None</span>, <span style=\"color: #00af00; text-decoration-color: #00af00\">25</span>, <span style=\"color: #00af00; text-decoration-color: #00af00\">128</span>)        │              <span style=\"color: #00af00; text-decoration-color: #00af00\">0</span> │ -                      │\n",
       "│ (<span style=\"color: #0087ff; text-decoration-color: #0087ff\">InputLayer</span>)              │                        │                │                        │\n",
       "├───────────────────────────┼────────────────────────┼────────────────┼────────────────────────┤\n",
       "│ attention_layer           │ (<span style=\"color: #00d7ff; text-decoration-color: #00d7ff\">None</span>, <span style=\"color: #00af00; text-decoration-color: #00af00\">128</span>)            │            <span style=\"color: #00af00; text-decoration-color: #00af00\">129</span> │ input_layer_2[<span style=\"color: #00af00; text-decoration-color: #00af00\">0</span>][<span style=\"color: #00af00; text-decoration-color: #00af00\">0</span>]    │\n",
       "│ (<span style=\"color: #0087ff; text-decoration-color: #0087ff\">AttentionLayer</span>)          │                        │                │                        │\n",
       "├───────────────────────────┼────────────────────────┼────────────────┼────────────────────────┤\n",
       "│ input_layer_3             │ (<span style=\"color: #00d7ff; text-decoration-color: #00d7ff\">None</span>, <span style=\"color: #00af00; text-decoration-color: #00af00\">256</span>)            │              <span style=\"color: #00af00; text-decoration-color: #00af00\">0</span> │ -                      │\n",
       "│ (<span style=\"color: #0087ff; text-decoration-color: #0087ff\">InputLayer</span>)              │                        │                │                        │\n",
       "├───────────────────────────┼────────────────────────┼────────────────┼────────────────────────┤\n",
       "│ concatenate (<span style=\"color: #0087ff; text-decoration-color: #0087ff\">Concatenate</span>) │ (<span style=\"color: #00d7ff; text-decoration-color: #00d7ff\">None</span>, <span style=\"color: #00af00; text-decoration-color: #00af00\">384</span>)            │              <span style=\"color: #00af00; text-decoration-color: #00af00\">0</span> │ attention_layer[<span style=\"color: #00af00; text-decoration-color: #00af00\">0</span>][<span style=\"color: #00af00; text-decoration-color: #00af00\">0</span>], │\n",
       "│                           │                        │                │ input_layer_3[<span style=\"color: #00af00; text-decoration-color: #00af00\">0</span>][<span style=\"color: #00af00; text-decoration-color: #00af00\">0</span>]    │\n",
       "├───────────────────────────┼────────────────────────┼────────────────┼────────────────────────┤\n",
       "│ dense_3 (<span style=\"color: #0087ff; text-decoration-color: #0087ff\">Dense</span>)           │ (<span style=\"color: #00d7ff; text-decoration-color: #00d7ff\">None</span>, <span style=\"color: #00af00; text-decoration-color: #00af00\">256</span>)            │         <span style=\"color: #00af00; text-decoration-color: #00af00\">98,560</span> │ concatenate[<span style=\"color: #00af00; text-decoration-color: #00af00\">0</span>][<span style=\"color: #00af00; text-decoration-color: #00af00\">0</span>]      │\n",
       "├───────────────────────────┼────────────────────────┼────────────────┼────────────────────────┤\n",
       "│ batch_normalization_12    │ (<span style=\"color: #00d7ff; text-decoration-color: #00d7ff\">None</span>, <span style=\"color: #00af00; text-decoration-color: #00af00\">256</span>)            │          <span style=\"color: #00af00; text-decoration-color: #00af00\">1,024</span> │ dense_3[<span style=\"color: #00af00; text-decoration-color: #00af00\">0</span>][<span style=\"color: #00af00; text-decoration-color: #00af00\">0</span>]          │\n",
       "│ (<span style=\"color: #0087ff; text-decoration-color: #0087ff\">BatchNormalization</span>)      │                        │                │                        │\n",
       "├───────────────────────────┼────────────────────────┼────────────────┼────────────────────────┤\n",
       "│ dropout_10 (<span style=\"color: #0087ff; text-decoration-color: #0087ff\">Dropout</span>)      │ (<span style=\"color: #00d7ff; text-decoration-color: #00d7ff\">None</span>, <span style=\"color: #00af00; text-decoration-color: #00af00\">256</span>)            │              <span style=\"color: #00af00; text-decoration-color: #00af00\">0</span> │ batch_normalization_1… │\n",
       "├───────────────────────────┼────────────────────────┼────────────────┼────────────────────────┤\n",
       "│ dense_4 (<span style=\"color: #0087ff; text-decoration-color: #0087ff\">Dense</span>)           │ (<span style=\"color: #00d7ff; text-decoration-color: #00d7ff\">None</span>, <span style=\"color: #00af00; text-decoration-color: #00af00\">128</span>)            │         <span style=\"color: #00af00; text-decoration-color: #00af00\">32,896</span> │ dropout_10[<span style=\"color: #00af00; text-decoration-color: #00af00\">0</span>][<span style=\"color: #00af00; text-decoration-color: #00af00\">0</span>]       │\n",
       "├───────────────────────────┼────────────────────────┼────────────────┼────────────────────────┤\n",
       "│ batch_normalization_13    │ (<span style=\"color: #00d7ff; text-decoration-color: #00d7ff\">None</span>, <span style=\"color: #00af00; text-decoration-color: #00af00\">128</span>)            │            <span style=\"color: #00af00; text-decoration-color: #00af00\">512</span> │ dense_4[<span style=\"color: #00af00; text-decoration-color: #00af00\">0</span>][<span style=\"color: #00af00; text-decoration-color: #00af00\">0</span>]          │\n",
       "│ (<span style=\"color: #0087ff; text-decoration-color: #0087ff\">BatchNormalization</span>)      │                        │                │                        │\n",
       "├───────────────────────────┼────────────────────────┼────────────────┼────────────────────────┤\n",
       "│ dropout_11 (<span style=\"color: #0087ff; text-decoration-color: #0087ff\">Dropout</span>)      │ (<span style=\"color: #00d7ff; text-decoration-color: #00d7ff\">None</span>, <span style=\"color: #00af00; text-decoration-color: #00af00\">128</span>)            │              <span style=\"color: #00af00; text-decoration-color: #00af00\">0</span> │ batch_normalization_1… │\n",
       "├───────────────────────────┼────────────────────────┼────────────────┼────────────────────────┤\n",
       "│ dense_5 (<span style=\"color: #0087ff; text-decoration-color: #0087ff\">Dense</span>)           │ (<span style=\"color: #00d7ff; text-decoration-color: #00d7ff\">None</span>, <span style=\"color: #00af00; text-decoration-color: #00af00\">1</span>)              │            <span style=\"color: #00af00; text-decoration-color: #00af00\">129</span> │ dropout_11[<span style=\"color: #00af00; text-decoration-color: #00af00\">0</span>][<span style=\"color: #00af00; text-decoration-color: #00af00\">0</span>]       │\n",
       "└───────────────────────────┴────────────────────────┴────────────────┴────────────────────────┘\n",
       "</pre>\n"
      ],
      "text/plain": [
       "┏━━━━━━━━━━━━━━━━━━━━━━━━━━━┳━━━━━━━━━━━━━━━━━━━━━━━━┳━━━━━━━━━━━━━━━━┳━━━━━━━━━━━━━━━━━━━━━━━━┓\n",
       "┃\u001b[1m \u001b[0m\u001b[1mLayer (type)             \u001b[0m\u001b[1m \u001b[0m┃\u001b[1m \u001b[0m\u001b[1mOutput Shape          \u001b[0m\u001b[1m \u001b[0m┃\u001b[1m \u001b[0m\u001b[1m       Param #\u001b[0m\u001b[1m \u001b[0m┃\u001b[1m \u001b[0m\u001b[1mConnected to          \u001b[0m\u001b[1m \u001b[0m┃\n",
       "┡━━━━━━━━━━━━━━━━━━━━━━━━━━━╇━━━━━━━━━━━━━━━━━━━━━━━━╇━━━━━━━━━━━━━━━━╇━━━━━━━━━━━━━━━━━━━━━━━━┩\n",
       "│ input_layer_2             │ (\u001b[38;5;45mNone\u001b[0m, \u001b[38;5;34m25\u001b[0m, \u001b[38;5;34m128\u001b[0m)        │              \u001b[38;5;34m0\u001b[0m │ -                      │\n",
       "│ (\u001b[38;5;33mInputLayer\u001b[0m)              │                        │                │                        │\n",
       "├───────────────────────────┼────────────────────────┼────────────────┼────────────────────────┤\n",
       "│ attention_layer           │ (\u001b[38;5;45mNone\u001b[0m, \u001b[38;5;34m128\u001b[0m)            │            \u001b[38;5;34m129\u001b[0m │ input_layer_2[\u001b[38;5;34m0\u001b[0m][\u001b[38;5;34m0\u001b[0m]    │\n",
       "│ (\u001b[38;5;33mAttentionLayer\u001b[0m)          │                        │                │                        │\n",
       "├───────────────────────────┼────────────────────────┼────────────────┼────────────────────────┤\n",
       "│ input_layer_3             │ (\u001b[38;5;45mNone\u001b[0m, \u001b[38;5;34m256\u001b[0m)            │              \u001b[38;5;34m0\u001b[0m │ -                      │\n",
       "│ (\u001b[38;5;33mInputLayer\u001b[0m)              │                        │                │                        │\n",
       "├───────────────────────────┼────────────────────────┼────────────────┼────────────────────────┤\n",
       "│ concatenate (\u001b[38;5;33mConcatenate\u001b[0m) │ (\u001b[38;5;45mNone\u001b[0m, \u001b[38;5;34m384\u001b[0m)            │              \u001b[38;5;34m0\u001b[0m │ attention_layer[\u001b[38;5;34m0\u001b[0m][\u001b[38;5;34m0\u001b[0m], │\n",
       "│                           │                        │                │ input_layer_3[\u001b[38;5;34m0\u001b[0m][\u001b[38;5;34m0\u001b[0m]    │\n",
       "├───────────────────────────┼────────────────────────┼────────────────┼────────────────────────┤\n",
       "│ dense_3 (\u001b[38;5;33mDense\u001b[0m)           │ (\u001b[38;5;45mNone\u001b[0m, \u001b[38;5;34m256\u001b[0m)            │         \u001b[38;5;34m98,560\u001b[0m │ concatenate[\u001b[38;5;34m0\u001b[0m][\u001b[38;5;34m0\u001b[0m]      │\n",
       "├───────────────────────────┼────────────────────────┼────────────────┼────────────────────────┤\n",
       "│ batch_normalization_12    │ (\u001b[38;5;45mNone\u001b[0m, \u001b[38;5;34m256\u001b[0m)            │          \u001b[38;5;34m1,024\u001b[0m │ dense_3[\u001b[38;5;34m0\u001b[0m][\u001b[38;5;34m0\u001b[0m]          │\n",
       "│ (\u001b[38;5;33mBatchNormalization\u001b[0m)      │                        │                │                        │\n",
       "├───────────────────────────┼────────────────────────┼────────────────┼────────────────────────┤\n",
       "│ dropout_10 (\u001b[38;5;33mDropout\u001b[0m)      │ (\u001b[38;5;45mNone\u001b[0m, \u001b[38;5;34m256\u001b[0m)            │              \u001b[38;5;34m0\u001b[0m │ batch_normalization_1… │\n",
       "├───────────────────────────┼────────────────────────┼────────────────┼────────────────────────┤\n",
       "│ dense_4 (\u001b[38;5;33mDense\u001b[0m)           │ (\u001b[38;5;45mNone\u001b[0m, \u001b[38;5;34m128\u001b[0m)            │         \u001b[38;5;34m32,896\u001b[0m │ dropout_10[\u001b[38;5;34m0\u001b[0m][\u001b[38;5;34m0\u001b[0m]       │\n",
       "├───────────────────────────┼────────────────────────┼────────────────┼────────────────────────┤\n",
       "│ batch_normalization_13    │ (\u001b[38;5;45mNone\u001b[0m, \u001b[38;5;34m128\u001b[0m)            │            \u001b[38;5;34m512\u001b[0m │ dense_4[\u001b[38;5;34m0\u001b[0m][\u001b[38;5;34m0\u001b[0m]          │\n",
       "│ (\u001b[38;5;33mBatchNormalization\u001b[0m)      │                        │                │                        │\n",
       "├───────────────────────────┼────────────────────────┼────────────────┼────────────────────────┤\n",
       "│ dropout_11 (\u001b[38;5;33mDropout\u001b[0m)      │ (\u001b[38;5;45mNone\u001b[0m, \u001b[38;5;34m128\u001b[0m)            │              \u001b[38;5;34m0\u001b[0m │ batch_normalization_1… │\n",
       "├───────────────────────────┼────────────────────────┼────────────────┼────────────────────────┤\n",
       "│ dense_5 (\u001b[38;5;33mDense\u001b[0m)           │ (\u001b[38;5;45mNone\u001b[0m, \u001b[38;5;34m1\u001b[0m)              │            \u001b[38;5;34m129\u001b[0m │ dropout_11[\u001b[38;5;34m0\u001b[0m][\u001b[38;5;34m0\u001b[0m]       │\n",
       "└───────────────────────────┴────────────────────────┴────────────────┴────────────────────────┘\n"
      ]
     },
     "metadata": {},
     "output_type": "display_data"
    },
    {
     "data": {
      "text/html": [
       "<pre style=\"white-space:pre;overflow-x:auto;line-height:normal;font-family:Menlo,'DejaVu Sans Mono',consolas,'Courier New',monospace\"><span style=\"font-weight: bold\"> Total params: </span><span style=\"color: #00af00; text-decoration-color: #00af00\">133,250</span> (520.51 KB)\n",
       "</pre>\n"
      ],
      "text/plain": [
       "\u001b[1m Total params: \u001b[0m\u001b[38;5;34m133,250\u001b[0m (520.51 KB)\n"
      ]
     },
     "metadata": {},
     "output_type": "display_data"
    },
    {
     "data": {
      "text/html": [
       "<pre style=\"white-space:pre;overflow-x:auto;line-height:normal;font-family:Menlo,'DejaVu Sans Mono',consolas,'Courier New',monospace\"><span style=\"font-weight: bold\"> Trainable params: </span><span style=\"color: #00af00; text-decoration-color: #00af00\">132,482</span> (517.51 KB)\n",
       "</pre>\n"
      ],
      "text/plain": [
       "\u001b[1m Trainable params: \u001b[0m\u001b[38;5;34m132,482\u001b[0m (517.51 KB)\n"
      ]
     },
     "metadata": {},
     "output_type": "display_data"
    },
    {
     "data": {
      "text/html": [
       "<pre style=\"white-space:pre;overflow-x:auto;line-height:normal;font-family:Menlo,'DejaVu Sans Mono',consolas,'Courier New',monospace\"><span style=\"font-weight: bold\"> Non-trainable params: </span><span style=\"color: #00af00; text-decoration-color: #00af00\">768</span> (3.00 KB)\n",
       "</pre>\n"
      ],
      "text/plain": [
       "\u001b[1m Non-trainable params: \u001b[0m\u001b[38;5;34m768\u001b[0m (3.00 KB)\n"
      ]
     },
     "metadata": {},
     "output_type": "display_data"
    }
   ],
   "source": [
    "guiding_model = create_guiding_model(num_patches_per_image, 128, 256)\n",
    "\n",
    "# Compute class weights to handle imbalance\n",
    "num_pneumonia = np.sum(y_train == 0)\n",
    "num_normal = np.sum(y_train == 1)\n",
    "class_weight = {0: (num_normal / num_pneumonia), 1: 1.0}  # Weight Pneumonia class higher\n",
    "\n",
    "guiding_model.compile(\n",
    "    optimizer=tf.keras.optimizers.Adam(learning_rate=0.001),\n",
    "    loss='binary_crossentropy',\n",
    "    metrics=['accuracy']\n",
    ")\n",
    "\n",
    "guiding_model.summary()"
   ]
  },
  {
   "cell_type": "code",
   "execution_count": 15,
   "id": "5f72497b",
   "metadata": {
    "execution": {
     "iopub.execute_input": "2025-06-05T09:05:17.023532Z",
     "iopub.status.busy": "2025-06-05T09:05:17.023199Z",
     "iopub.status.idle": "2025-06-05T09:05:54.240559Z",
     "shell.execute_reply": "2025-06-05T09:05:54.239599Z"
    },
    "papermill": {
     "duration": 37.237923,
     "end_time": "2025-06-05T09:05:54.241915",
     "exception": false,
     "start_time": "2025-06-05T09:05:17.003992",
     "status": "completed"
    },
    "tags": []
   },
   "outputs": [
    {
     "name": "stdout",
     "output_type": "stream",
     "text": [
      "Epoch 1/50\n",
      "\u001b[1m163/163\u001b[0m \u001b[32m━━━━━━━━━━━━━━━━━━━━\u001b[0m\u001b[37m\u001b[0m \u001b[1m8s\u001b[0m 10ms/step - accuracy: 0.7911 - loss: 0.2134 - val_accuracy: 0.8622 - val_loss: 0.4199 - learning_rate: 0.0010\n",
      "Epoch 2/50\n",
      "\u001b[1m163/163\u001b[0m \u001b[32m━━━━━━━━━━━━━━━━━━━━\u001b[0m\u001b[37m\u001b[0m \u001b[1m1s\u001b[0m 3ms/step - accuracy: 0.9207 - loss: 0.1001 - val_accuracy: 0.7788 - val_loss: 0.4933 - learning_rate: 0.0010\n",
      "Epoch 3/50\n",
      "\u001b[1m163/163\u001b[0m \u001b[32m━━━━━━━━━━━━━━━━━━━━\u001b[0m\u001b[37m\u001b[0m \u001b[1m1s\u001b[0m 3ms/step - accuracy: 0.9437 - loss: 0.0785 - val_accuracy: 0.8077 - val_loss: 0.4877 - learning_rate: 0.0010\n",
      "Epoch 4/50\n",
      "\u001b[1m153/163\u001b[0m \u001b[32m━━━━━━━━━━━━━━━━━━\u001b[0m\u001b[37m━━\u001b[0m \u001b[1m0s\u001b[0m 3ms/step - accuracy: 0.9401 - loss: 0.0758\n",
      "Epoch 4: ReduceLROnPlateau reducing learning rate to 0.0005000000237487257.\n",
      "\u001b[1m163/163\u001b[0m \u001b[32m━━━━━━━━━━━━━━━━━━━━\u001b[0m\u001b[37m\u001b[0m \u001b[1m1s\u001b[0m 3ms/step - accuracy: 0.9402 - loss: 0.0759 - val_accuracy: 0.8109 - val_loss: 0.4752 - learning_rate: 0.0010\n",
      "Epoch 5/50\n",
      "\u001b[1m163/163\u001b[0m \u001b[32m━━━━━━━━━━━━━━━━━━━━\u001b[0m\u001b[37m\u001b[0m \u001b[1m1s\u001b[0m 3ms/step - accuracy: 0.9511 - loss: 0.0610 - val_accuracy: 0.7308 - val_loss: 0.9580 - learning_rate: 5.0000e-04\n",
      "Epoch 6/50\n",
      "\u001b[1m163/163\u001b[0m \u001b[32m━━━━━━━━━━━━━━━━━━━━\u001b[0m\u001b[37m\u001b[0m \u001b[1m1s\u001b[0m 3ms/step - accuracy: 0.9544 - loss: 0.0631 - val_accuracy: 0.6699 - val_loss: 1.3493 - learning_rate: 5.0000e-04\n",
      "Epoch 7/50\n",
      "\u001b[1m149/163\u001b[0m \u001b[32m━━━━━━━━━━━━━━━━━━\u001b[0m\u001b[37m━━\u001b[0m \u001b[1m0s\u001b[0m 3ms/step - accuracy: 0.9549 - loss: 0.0566\n",
      "Epoch 7: ReduceLROnPlateau reducing learning rate to 0.0002500000118743628.\n",
      "\u001b[1m163/163\u001b[0m \u001b[32m━━━━━━━━━━━━━━━━━━━━\u001b[0m\u001b[37m\u001b[0m \u001b[1m1s\u001b[0m 3ms/step - accuracy: 0.9544 - loss: 0.0571 - val_accuracy: 0.8205 - val_loss: 0.5640 - learning_rate: 5.0000e-04\n",
      "Epoch 8/50\n",
      "\u001b[1m163/163\u001b[0m \u001b[32m━━━━━━━━━━━━━━━━━━━━\u001b[0m\u001b[37m\u001b[0m \u001b[1m1s\u001b[0m 3ms/step - accuracy: 0.9558 - loss: 0.0601 - val_accuracy: 0.8782 - val_loss: 0.3709 - learning_rate: 2.5000e-04\n",
      "Epoch 9/50\n",
      "\u001b[1m163/163\u001b[0m \u001b[32m━━━━━━━━━━━━━━━━━━━━\u001b[0m\u001b[37m\u001b[0m \u001b[1m1s\u001b[0m 3ms/step - accuracy: 0.9629 - loss: 0.0505 - val_accuracy: 0.7147 - val_loss: 1.0960 - learning_rate: 2.5000e-04\n",
      "Epoch 10/50\n",
      "\u001b[1m163/163\u001b[0m \u001b[32m━━━━━━━━━━━━━━━━━━━━\u001b[0m\u001b[37m\u001b[0m \u001b[1m1s\u001b[0m 3ms/step - accuracy: 0.9641 - loss: 0.0535 - val_accuracy: 0.7692 - val_loss: 0.8240 - learning_rate: 2.5000e-04\n",
      "Epoch 11/50\n",
      "\u001b[1m159/163\u001b[0m \u001b[32m━━━━━━━━━━━━━━━━━━━\u001b[0m\u001b[37m━\u001b[0m \u001b[1m0s\u001b[0m 3ms/step - accuracy: 0.9636 - loss: 0.0502\n",
      "Epoch 11: ReduceLROnPlateau reducing learning rate to 0.0001250000059371814.\n",
      "\u001b[1m163/163\u001b[0m \u001b[32m━━━━━━━━━━━━━━━━━━━━\u001b[0m\u001b[37m\u001b[0m \u001b[1m1s\u001b[0m 4ms/step - accuracy: 0.9634 - loss: 0.0503 - val_accuracy: 0.8349 - val_loss: 0.5677 - learning_rate: 2.5000e-04\n",
      "Epoch 12/50\n",
      "\u001b[1m163/163\u001b[0m \u001b[32m━━━━━━━━━━━━━━━━━━━━\u001b[0m\u001b[37m\u001b[0m \u001b[1m1s\u001b[0m 4ms/step - accuracy: 0.9619 - loss: 0.0473 - val_accuracy: 0.8109 - val_loss: 0.6688 - learning_rate: 1.2500e-04\n",
      "Epoch 13/50\n",
      "\u001b[1m163/163\u001b[0m \u001b[32m━━━━━━━━━━━━━━━━━━━━\u001b[0m\u001b[37m\u001b[0m \u001b[1m1s\u001b[0m 3ms/step - accuracy: 0.9581 - loss: 0.0552 - val_accuracy: 0.8734 - val_loss: 0.4460 - learning_rate: 1.2500e-04\n",
      "Epoch 14/50\n",
      "\u001b[1m148/163\u001b[0m \u001b[32m━━━━━━━━━━━━━━━━━━\u001b[0m\u001b[37m━━\u001b[0m \u001b[1m0s\u001b[0m 3ms/step - accuracy: 0.9585 - loss: 0.0554\n",
      "Epoch 14: ReduceLROnPlateau reducing learning rate to 6.25000029685907e-05.\n",
      "\u001b[1m163/163\u001b[0m \u001b[32m━━━━━━━━━━━━━━━━━━━━\u001b[0m\u001b[37m\u001b[0m \u001b[1m1s\u001b[0m 3ms/step - accuracy: 0.9586 - loss: 0.0551 - val_accuracy: 0.7676 - val_loss: 0.8425 - learning_rate: 1.2500e-04\n",
      "Epoch 15/50\n",
      "\u001b[1m163/163\u001b[0m \u001b[32m━━━━━━━━━━━━━━━━━━━━\u001b[0m\u001b[37m\u001b[0m \u001b[1m1s\u001b[0m 4ms/step - accuracy: 0.9636 - loss: 0.0505 - val_accuracy: 0.8397 - val_loss: 0.5081 - learning_rate: 6.2500e-05\n",
      "Epoch 16/50\n",
      "\u001b[1m163/163\u001b[0m \u001b[32m━━━━━━━━━━━━━━━━━━━━\u001b[0m\u001b[37m\u001b[0m \u001b[1m1s\u001b[0m 3ms/step - accuracy: 0.9609 - loss: 0.0481 - val_accuracy: 0.8413 - val_loss: 0.5214 - learning_rate: 6.2500e-05\n",
      "Epoch 17/50\n",
      "\u001b[1m160/163\u001b[0m \u001b[32m━━━━━━━━━━━━━━━━━━━\u001b[0m\u001b[37m━\u001b[0m \u001b[1m0s\u001b[0m 3ms/step - accuracy: 0.9604 - loss: 0.0507\n",
      "Epoch 17: ReduceLROnPlateau reducing learning rate to 3.125000148429535e-05.\n",
      "\u001b[1m163/163\u001b[0m \u001b[32m━━━━━━━━━━━━━━━━━━━━\u001b[0m\u001b[37m\u001b[0m \u001b[1m1s\u001b[0m 3ms/step - accuracy: 0.9604 - loss: 0.0507 - val_accuracy: 0.8125 - val_loss: 0.6565 - learning_rate: 6.2500e-05\n",
      "Epoch 18/50\n",
      "\u001b[1m163/163\u001b[0m \u001b[32m━━━━━━━━━━━━━━━━━━━━\u001b[0m\u001b[37m\u001b[0m \u001b[1m1s\u001b[0m 3ms/step - accuracy: 0.9615 - loss: 0.0528 - val_accuracy: 0.8606 - val_loss: 0.4781 - learning_rate: 3.1250e-05\n",
      "Epoch 19/50\n",
      "\u001b[1m163/163\u001b[0m \u001b[32m━━━━━━━━━━━━━━━━━━━━\u001b[0m\u001b[37m\u001b[0m \u001b[1m1s\u001b[0m 3ms/step - accuracy: 0.9618 - loss: 0.0498 - val_accuracy: 0.8429 - val_loss: 0.5547 - learning_rate: 3.1250e-05\n",
      "Epoch 20/50\n",
      "\u001b[1m144/163\u001b[0m \u001b[32m━━━━━━━━━━━━━━━━━\u001b[0m\u001b[37m━━━\u001b[0m \u001b[1m0s\u001b[0m 3ms/step - accuracy: 0.9619 - loss: 0.0472\n",
      "Epoch 20: ReduceLROnPlateau reducing learning rate to 1.5625000742147677e-05.\n",
      "\u001b[1m163/163\u001b[0m \u001b[32m━━━━━━━━━━━━━━━━━━━━\u001b[0m\u001b[37m\u001b[0m \u001b[1m1s\u001b[0m 3ms/step - accuracy: 0.9621 - loss: 0.0475 - val_accuracy: 0.8157 - val_loss: 0.6786 - learning_rate: 3.1250e-05\n",
      "Epoch 21/50\n",
      "\u001b[1m163/163\u001b[0m \u001b[32m━━━━━━━━━━━━━━━━━━━━\u001b[0m\u001b[37m\u001b[0m \u001b[1m1s\u001b[0m 3ms/step - accuracy: 0.9644 - loss: 0.0483 - val_accuracy: 0.8397 - val_loss: 0.5687 - learning_rate: 1.5625e-05\n",
      "Epoch 22/50\n",
      "\u001b[1m163/163\u001b[0m \u001b[32m━━━━━━━━━━━━━━━━━━━━\u001b[0m\u001b[37m\u001b[0m \u001b[1m1s\u001b[0m 3ms/step - accuracy: 0.9594 - loss: 0.0527 - val_accuracy: 0.8365 - val_loss: 0.6117 - learning_rate: 1.5625e-05\n",
      "Epoch 23/50\n",
      "\u001b[1m150/163\u001b[0m \u001b[32m━━━━━━━━━━━━━━━━━━\u001b[0m\u001b[37m━━\u001b[0m \u001b[1m0s\u001b[0m 3ms/step - accuracy: 0.9633 - loss: 0.0488\n",
      "Epoch 23: ReduceLROnPlateau reducing learning rate to 1e-05.\n",
      "\u001b[1m163/163\u001b[0m \u001b[32m━━━━━━━━━━━━━━━━━━━━\u001b[0m\u001b[37m\u001b[0m \u001b[1m1s\u001b[0m 3ms/step - accuracy: 0.9633 - loss: 0.0489 - val_accuracy: 0.8349 - val_loss: 0.6017 - learning_rate: 1.5625e-05\n",
      "Epoch 24/50\n",
      "\u001b[1m163/163\u001b[0m \u001b[32m━━━━━━━━━━━━━━━━━━━━\u001b[0m\u001b[37m\u001b[0m \u001b[1m1s\u001b[0m 4ms/step - accuracy: 0.9565 - loss: 0.0503 - val_accuracy: 0.8349 - val_loss: 0.5853 - learning_rate: 1.0000e-05\n",
      "Epoch 25/50\n",
      "\u001b[1m163/163\u001b[0m \u001b[32m━━━━━━━━━━━━━━━━━━━━\u001b[0m\u001b[37m\u001b[0m \u001b[1m1s\u001b[0m 4ms/step - accuracy: 0.9674 - loss: 0.0451 - val_accuracy: 0.8365 - val_loss: 0.5826 - learning_rate: 1.0000e-05\n",
      "Epoch 26/50\n",
      "\u001b[1m163/163\u001b[0m \u001b[32m━━━━━━━━━━━━━━━━━━━━\u001b[0m\u001b[37m\u001b[0m \u001b[1m1s\u001b[0m 4ms/step - accuracy: 0.9609 - loss: 0.0483 - val_accuracy: 0.8349 - val_loss: 0.5824 - learning_rate: 1.0000e-05\n",
      "Epoch 27/50\n",
      "\u001b[1m163/163\u001b[0m \u001b[32m━━━━━━━━━━━━━━━━━━━━\u001b[0m\u001b[37m\u001b[0m \u001b[1m1s\u001b[0m 4ms/step - accuracy: 0.9623 - loss: 0.0488 - val_accuracy: 0.8285 - val_loss: 0.6009 - learning_rate: 1.0000e-05\n",
      "Epoch 28/50\n",
      "\u001b[1m163/163\u001b[0m \u001b[32m━━━━━━━━━━━━━━━━━━━━\u001b[0m\u001b[37m\u001b[0m \u001b[1m1s\u001b[0m 4ms/step - accuracy: 0.9635 - loss: 0.0474 - val_accuracy: 0.8221 - val_loss: 0.6201 - learning_rate: 1.0000e-05\n",
      "Epoch 29/50\n",
      "\u001b[1m163/163\u001b[0m \u001b[32m━━━━━━━━━━━━━━━━━━━━\u001b[0m\u001b[37m\u001b[0m \u001b[1m1s\u001b[0m 3ms/step - accuracy: 0.9641 - loss: 0.0504 - val_accuracy: 0.8285 - val_loss: 0.6069 - learning_rate: 1.0000e-05\n",
      "Epoch 30/50\n",
      "\u001b[1m163/163\u001b[0m \u001b[32m━━━━━━━━━━━━━━━━━━━━\u001b[0m\u001b[37m\u001b[0m \u001b[1m1s\u001b[0m 3ms/step - accuracy: 0.9612 - loss: 0.0528 - val_accuracy: 0.8446 - val_loss: 0.5584 - learning_rate: 1.0000e-05\n",
      "Epoch 31/50\n",
      "\u001b[1m163/163\u001b[0m \u001b[32m━━━━━━━━━━━━━━━━━━━━\u001b[0m\u001b[37m\u001b[0m \u001b[1m1s\u001b[0m 3ms/step - accuracy: 0.9672 - loss: 0.0460 - val_accuracy: 0.8349 - val_loss: 0.6054 - learning_rate: 1.0000e-05\n",
      "Epoch 32/50\n",
      "\u001b[1m163/163\u001b[0m \u001b[32m━━━━━━━━━━━━━━━━━━━━\u001b[0m\u001b[37m\u001b[0m \u001b[1m1s\u001b[0m 3ms/step - accuracy: 0.9657 - loss: 0.0481 - val_accuracy: 0.8285 - val_loss: 0.6252 - learning_rate: 1.0000e-05\n",
      "Epoch 33/50\n",
      "\u001b[1m163/163\u001b[0m \u001b[32m━━━━━━━━━━━━━━━━━━━━\u001b[0m\u001b[37m\u001b[0m \u001b[1m1s\u001b[0m 3ms/step - accuracy: 0.9669 - loss: 0.0437 - val_accuracy: 0.8301 - val_loss: 0.6169 - learning_rate: 1.0000e-05\n",
      "Epoch 34/50\n",
      "\u001b[1m163/163\u001b[0m \u001b[32m━━━━━━━━━━━━━━━━━━━━\u001b[0m\u001b[37m\u001b[0m \u001b[1m1s\u001b[0m 3ms/step - accuracy: 0.9629 - loss: 0.0512 - val_accuracy: 0.8269 - val_loss: 0.6209 - learning_rate: 1.0000e-05\n",
      "Epoch 35/50\n",
      "\u001b[1m163/163\u001b[0m \u001b[32m━━━━━━━━━━━━━━━━━━━━\u001b[0m\u001b[37m\u001b[0m \u001b[1m1s\u001b[0m 3ms/step - accuracy: 0.9672 - loss: 0.0440 - val_accuracy: 0.8237 - val_loss: 0.6450 - learning_rate: 1.0000e-05\n",
      "Epoch 36/50\n",
      "\u001b[1m163/163\u001b[0m \u001b[32m━━━━━━━━━━━━━━━━━━━━\u001b[0m\u001b[37m\u001b[0m \u001b[1m1s\u001b[0m 3ms/step - accuracy: 0.9624 - loss: 0.0508 - val_accuracy: 0.8446 - val_loss: 0.5444 - learning_rate: 1.0000e-05\n",
      "Epoch 37/50\n",
      "\u001b[1m163/163\u001b[0m \u001b[32m━━━━━━━━━━━━━━━━━━━━\u001b[0m\u001b[37m\u001b[0m \u001b[1m1s\u001b[0m 3ms/step - accuracy: 0.9636 - loss: 0.0476 - val_accuracy: 0.8429 - val_loss: 0.5815 - learning_rate: 1.0000e-05\n",
      "Epoch 38/50\n",
      "\u001b[1m163/163\u001b[0m \u001b[32m━━━━━━━━━━━━━━━━━━━━\u001b[0m\u001b[37m\u001b[0m \u001b[1m1s\u001b[0m 3ms/step - accuracy: 0.9697 - loss: 0.0390 - val_accuracy: 0.8285 - val_loss: 0.6283 - learning_rate: 1.0000e-05\n",
      "Epoch 39/50\n",
      "\u001b[1m163/163\u001b[0m \u001b[32m━━━━━━━━━━━━━━━━━━━━\u001b[0m\u001b[37m\u001b[0m \u001b[1m1s\u001b[0m 3ms/step - accuracy: 0.9597 - loss: 0.0489 - val_accuracy: 0.8269 - val_loss: 0.6541 - learning_rate: 1.0000e-05\n",
      "Epoch 40/50\n",
      "\u001b[1m163/163\u001b[0m \u001b[32m━━━━━━━━━━━━━━━━━━━━\u001b[0m\u001b[37m\u001b[0m \u001b[1m1s\u001b[0m 3ms/step - accuracy: 0.9658 - loss: 0.0464 - val_accuracy: 0.8381 - val_loss: 0.5815 - learning_rate: 1.0000e-05\n",
      "Epoch 41/50\n",
      "\u001b[1m163/163\u001b[0m \u001b[32m━━━━━━━━━━━━━━━━━━━━\u001b[0m\u001b[37m\u001b[0m \u001b[1m1s\u001b[0m 3ms/step - accuracy: 0.9579 - loss: 0.0494 - val_accuracy: 0.8333 - val_loss: 0.5961 - learning_rate: 1.0000e-05\n",
      "Epoch 42/50\n",
      "\u001b[1m163/163\u001b[0m \u001b[32m━━━━━━━━━━━━━━━━━━━━\u001b[0m\u001b[37m\u001b[0m \u001b[1m1s\u001b[0m 3ms/step - accuracy: 0.9687 - loss: 0.0427 - val_accuracy: 0.8317 - val_loss: 0.6173 - learning_rate: 1.0000e-05\n",
      "Epoch 43/50\n",
      "\u001b[1m163/163\u001b[0m \u001b[32m━━━━━━━━━━━━━━━━━━━━\u001b[0m\u001b[37m\u001b[0m \u001b[1m1s\u001b[0m 3ms/step - accuracy: 0.9680 - loss: 0.0427 - val_accuracy: 0.8317 - val_loss: 0.6455 - learning_rate: 1.0000e-05\n",
      "Epoch 44/50\n",
      "\u001b[1m163/163\u001b[0m \u001b[32m━━━━━━━━━━━━━━━━━━━━\u001b[0m\u001b[37m\u001b[0m \u001b[1m1s\u001b[0m 3ms/step - accuracy: 0.9673 - loss: 0.0441 - val_accuracy: 0.8301 - val_loss: 0.6317 - learning_rate: 1.0000e-05\n",
      "Epoch 45/50\n",
      "\u001b[1m163/163\u001b[0m \u001b[32m━━━━━━━━━━━━━━━━━━━━\u001b[0m\u001b[37m\u001b[0m \u001b[1m1s\u001b[0m 3ms/step - accuracy: 0.9681 - loss: 0.0382 - val_accuracy: 0.8333 - val_loss: 0.6037 - learning_rate: 1.0000e-05\n",
      "Epoch 46/50\n",
      "\u001b[1m163/163\u001b[0m \u001b[32m━━━━━━━━━━━━━━━━━━━━\u001b[0m\u001b[37m\u001b[0m \u001b[1m1s\u001b[0m 4ms/step - accuracy: 0.9643 - loss: 0.0477 - val_accuracy: 0.8301 - val_loss: 0.6061 - learning_rate: 1.0000e-05\n",
      "Epoch 47/50\n",
      "\u001b[1m163/163\u001b[0m \u001b[32m━━━━━━━━━━━━━━━━━━━━\u001b[0m\u001b[37m\u001b[0m \u001b[1m1s\u001b[0m 4ms/step - accuracy: 0.9651 - loss: 0.0443 - val_accuracy: 0.8301 - val_loss: 0.6070 - learning_rate: 1.0000e-05\n",
      "Epoch 48/50\n",
      "\u001b[1m163/163\u001b[0m \u001b[32m━━━━━━━━━━━━━━━━━━━━\u001b[0m\u001b[37m\u001b[0m \u001b[1m1s\u001b[0m 3ms/step - accuracy: 0.9670 - loss: 0.0427 - val_accuracy: 0.8333 - val_loss: 0.6171 - learning_rate: 1.0000e-05\n",
      "Epoch 49/50\n",
      "\u001b[1m163/163\u001b[0m \u001b[32m━━━━━━━━━━━━━━━━━━━━\u001b[0m\u001b[37m\u001b[0m \u001b[1m1s\u001b[0m 3ms/step - accuracy: 0.9673 - loss: 0.0440 - val_accuracy: 0.8285 - val_loss: 0.6405 - learning_rate: 1.0000e-05\n",
      "Epoch 50/50\n",
      "\u001b[1m163/163\u001b[0m \u001b[32m━━━━━━━━━━━━━━━━━━━━\u001b[0m\u001b[37m\u001b[0m \u001b[1m1s\u001b[0m 3ms/step - accuracy: 0.9694 - loss: 0.0418 - val_accuracy: 0.8349 - val_loss: 0.6004 - learning_rate: 1.0000e-05\n",
      "\u001b[1m20/20\u001b[0m \u001b[32m━━━━━━━━━━━━━━━━━━━━\u001b[0m\u001b[37m\u001b[0m \u001b[1m0s\u001b[0m 3ms/step - accuracy: 0.9349 - loss: 0.2140 \n",
      "Loss of the model is -  0.6003972291946411\n",
      "Accuracy of the model is -  83.49359035491943 %\n",
      "\u001b[1m20/20\u001b[0m \u001b[32m━━━━━━━━━━━━━━━━━━━━\u001b[0m\u001b[37m\u001b[0m \u001b[1m1s\u001b[0m 24ms/step\n",
      "THE CLASSIFICATION REPORT OF WSI PIPELINE IS AS FOLLOWS:\n",
      "              precision    recall  f1-score   support\n",
      "\n",
      "   Pneumonia       0.80      0.98      0.88       390\n",
      "      Normal       0.94      0.60      0.73       234\n",
      "\n",
      "    accuracy                           0.83       624\n",
      "   macro avg       0.87      0.79      0.81       624\n",
      "weighted avg       0.85      0.83      0.82       624\n",
      "\n"
     ]
    }
   ],
   "source": [
    "learning_rate_reduction = ReduceLROnPlateau(\n",
    "    monitor='val_accuracy',  # Monitor validation accuracy\n",
    "    patience=3,\n",
    "    verbose=1,\n",
    "    factor=0.5,\n",
    "    min_lr=0.00001\n",
    ")\n",
    "\n",
    "history = guiding_model.fit(\n",
    "    [train_patch_features, train_global_features], y_train,\n",
    "    batch_size=32,\n",
    "    epochs=50,\n",
    "    validation_data=([test_patch_features, test_global_features], y_test),\n",
    "    callbacks=[learning_rate_reduction],\n",
    "    class_weight=class_weight \n",
    ")\n",
    "\n",
    "\n",
    "loss, accuracy = guiding_model.evaluate([test_patch_features, test_global_features], y_test)\n",
    "print(\"Loss of the model is - \", loss)\n",
    "print(\"Accuracy of the model is - \", accuracy * 100, \"%\")\n",
    "\n",
    "\n",
    "predictions = (guiding_model.predict([test_patch_features, test_global_features]) > 0.5).astype(int).reshape(-1)\n",
    "print(\"THE CLASSIFICATION REPORT OF WSI PIPELINE IS AS FOLLOWS:\")\n",
    "print(classification_report(y_test, predictions, target_names=['Pneumonia', 'Normal']))"
   ]
  },
  {
   "cell_type": "code",
   "execution_count": null,
   "id": "2840ba90",
   "metadata": {
    "papermill": {
     "duration": 0.088181,
     "end_time": "2025-06-05T09:05:54.371286",
     "exception": false,
     "start_time": "2025-06-05T09:05:54.283105",
     "status": "completed"
    },
    "tags": []
   },
   "outputs": [],
   "source": []
  }
 ],
 "metadata": {
  "kaggle": {
   "accelerator": "nvidiaTeslaT4",
   "dataSources": [
    {
     "datasetId": 17810,
     "sourceId": 23812,
     "sourceType": "datasetVersion"
    }
   ],
   "dockerImageVersionId": 31041,
   "isGpuEnabled": true,
   "isInternetEnabled": true,
   "language": "python",
   "sourceType": "notebook"
  },
  "kernelspec": {
   "display_name": "Python 3",
   "language": "python",
   "name": "python3"
  },
  "language_info": {
   "codemirror_mode": {
    "name": "ipython",
    "version": 3
   },
   "file_extension": ".py",
   "mimetype": "text/x-python",
   "name": "python",
   "nbconvert_exporter": "python",
   "pygments_lexer": "ipython3",
   "version": "3.11.11"
  },
  "papermill": {
   "default_parameters": {},
   "duration": 192.484174,
   "end_time": "2025-06-05T09:05:57.443836",
   "environment_variables": {},
   "exception": null,
   "input_path": "__notebook__.ipynb",
   "output_path": "__notebook__.ipynb",
   "parameters": {},
   "start_time": "2025-06-05T09:02:44.959662",
   "version": "2.6.0"
  }
 },
 "nbformat": 4,
 "nbformat_minor": 5
}
