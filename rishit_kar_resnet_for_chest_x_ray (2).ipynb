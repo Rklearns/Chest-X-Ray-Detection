{
  "metadata": {
    "kernelspec": {
      "language": "python",
      "display_name": "Python 3",
      "name": "python3"
    },
    "language_info": {
      "name": "python",
      "version": "3.11.11",
      "mimetype": "text/x-python",
      "codemirror_mode": {
        "name": "ipython",
        "version": 3
      },
      "pygments_lexer": "ipython3",
      "nbconvert_exporter": "python",
      "file_extension": ".py"
    },
    "kaggle": {
      "accelerator": "nvidiaTeslaT4",
      "dataSources": [
        {
          "sourceId": 23812,
          "sourceType": "datasetVersion",
          "datasetId": 17810
        }
      ],
      "dockerImageVersionId": 31011,
      "isInternetEnabled": true,
      "language": "python",
      "sourceType": "notebook",
      "isGpuEnabled": true
    },
    "colab": {
      "provenance": []
    }
  },
  "nbformat_minor": 0,
  "nbformat": 4,
  "cells": [
    {
      "cell_type": "code",
      "source": [
        "# This Python 3 environment comes with many helpful analytics libraries installed\n",
        "# It is defined by the kaggle/python Docker image: https://github.com/kaggle/docker-python\n",
        "# For example, here's several helpful packages to load\n",
        "\n",
        "import numpy as np # linear algebra\n",
        "import pandas as pd # data processing, CSV file I/O (e.g. pd.read_csv)\n",
        "\n",
        "# Input data files are available in the read-only \"../input/\" directory\n",
        "# For example, running this (by clicking run or pressing Shift+Enter) will list all files under the input directory\n",
        "\n",
        "import os\n",
        "count = 0\n",
        "for dirname, _, filenames in os.walk('/kaggle/input'):\n",
        "    for filename in filenames:\n",
        "        print(os.path.join(dirname, filename))\n",
        "        count += 1\n",
        "        if count >= 10:\n",
        "            break\n",
        "    if count >= 10:\n",
        "        break\n",
        "\n",
        "# You can write up to 20GB to the current directory (/kaggle/working/) that gets preserved as output when you create a version using \"Save & Run All\"\n",
        "# You can also write temporary files to /kaggle/temp/, but they won't be saved outside of the current session"
      ],
      "metadata": {
        "_uuid": "8f2839f25d086af736a60e9eeb907d3b93b6e0e5",
        "_cell_guid": "b1076dfc-b9ad-4769-8c92-a6c4dae69d19",
        "trusted": true,
        "execution": {
          "iopub.status.busy": "2025-04-18T07:10:57.235255Z",
          "iopub.execute_input": "2025-04-18T07:10:57.235415Z",
          "iopub.status.idle": "2025-04-18T07:11:30.880396Z",
          "shell.execute_reply.started": "2025-04-18T07:10:57.235400Z",
          "shell.execute_reply": "2025-04-18T07:11:30.879537Z"
        },
        "id": "g3bfVt-kh-GA"
      },
      "outputs": [],
      "execution_count": 1
    },
    {
      "cell_type": "code",
      "source": [
        "import matplotlib.pyplot as plt\n",
        "import seaborn as sns\n",
        "from tensorflow import keras\n",
        "from tensorflow.keras.models import Model\n",
        "from tensorflow.keras.layers import Dense, GlobalAveragePooling2D, Input, Dropout\n",
        "from tensorflow.keras.applications import ResNet50\n",
        "from tensorflow.keras.preprocessing.image import ImageDataGenerator\n",
        "from tensorflow.keras.regularizers import l2\n",
        "from sklearn.model_selection import train_test_split\n",
        "from tensorflow.keras.callbacks import ReduceLROnPlateau, EarlyStopping\n",
        "import cv2\n",
        "import os\n",
        "import numpy as np\n",
        "from sklearn.metrics import classification_report, confusion_matrix\n",
        "from sklearn.utils import class_weight"
      ],
      "metadata": {
        "trusted": true,
        "execution": {
          "iopub.status.busy": "2025-04-18T07:42:52.957239Z",
          "iopub.execute_input": "2025-04-18T07:42:52.957501Z",
          "iopub.status.idle": "2025-04-18T07:42:52.974325Z",
          "shell.execute_reply.started": "2025-04-18T07:42:52.957483Z",
          "shell.execute_reply": "2025-04-18T07:42:52.973792Z"
        },
        "id": "40-Tsxmth-GJ"
      },
      "outputs": [],
      "execution_count": null
    },
    {
      "cell_type": "code",
      "source": [
        "\n",
        "labels = ['PNEUMONIA', 'NORMAL']\n",
        "\n",
        "def get_training_data(data_dir):\n",
        "    data = []\n",
        "    for label in labels:\n",
        "        path = os.path.join(data_dir, label)\n",
        "        class_num = labels.index(label)\n",
        "        for img in os.listdir(path):\n",
        "            try:\n",
        "                img_arr = cv2.imread(os.path.join(path, img))\n",
        "                img_arr = cv2.cvtColor(img_arr, cv2.COLOR_BGR2RGB)\n",
        "                resized_arr = cv2.resize(img_arr, (150, 150))\n",
        "                data.append([resized_arr, class_num])\n",
        "            except Exception as e:\n",
        "                print(e)\n",
        "    return np.array(data, dtype=object)"
      ],
      "metadata": {
        "trusted": true,
        "execution": {
          "iopub.status.busy": "2025-04-18T07:42:54.244695Z",
          "iopub.execute_input": "2025-04-18T07:42:54.244947Z",
          "iopub.status.idle": "2025-04-18T07:42:54.250322Z",
          "shell.execute_reply.started": "2025-04-18T07:42:54.244929Z",
          "shell.execute_reply": "2025-04-18T07:42:54.249688Z"
        },
        "id": "vrRUjdbxh-GK"
      },
      "outputs": [],
      "execution_count": null
    },
    {
      "cell_type": "code",
      "source": [
        "train = get_training_data('/kaggle/input/chest-xray-pneumonia/chest_xray/train')\n",
        "test = get_training_data('/kaggle/input/chest-xray-pneumonia/chest_xray/test')"
      ],
      "metadata": {
        "trusted": true,
        "execution": {
          "iopub.status.busy": "2025-04-18T07:42:57.032111Z",
          "iopub.execute_input": "2025-04-18T07:42:57.032397Z",
          "iopub.status.idle": "2025-04-18T07:43:53.989127Z",
          "shell.execute_reply.started": "2025-04-18T07:42:57.032376Z",
          "shell.execute_reply": "2025-04-18T07:43:53.988344Z"
        },
        "id": "JtrooPS1h-GM"
      },
      "outputs": [],
      "execution_count": null
    },
    {
      "cell_type": "code",
      "source": [
        "x_train = []\n",
        "y_train = []\n",
        "for feature, label in train:\n",
        "    x_train.append(feature)\n",
        "    y_train.append(label)\n",
        "\n",
        "x_test = []\n",
        "y_test = []\n",
        "for feature, label in test:\n",
        "    x_test.append(feature)\n",
        "    y_test.append(label)"
      ],
      "metadata": {
        "trusted": true,
        "execution": {
          "iopub.status.busy": "2025-04-18T07:43:53.990303Z",
          "iopub.execute_input": "2025-04-18T07:43:53.990516Z",
          "iopub.status.idle": "2025-04-18T07:43:54.008719Z",
          "shell.execute_reply.started": "2025-04-18T07:43:53.990500Z",
          "shell.execute_reply": "2025-04-18T07:43:54.008033Z"
        },
        "id": "Hy7gq6BRh-GN"
      },
      "outputs": [],
      "execution_count": null
    },
    {
      "cell_type": "code",
      "source": [
        "x_train = np.array(x_train) /255\n",
        "x_test = np.array(x_test) /255\n",
        "y_train = np.array(y_train)\n",
        "y_test = np.array(y_test)"
      ],
      "metadata": {
        "trusted": true,
        "execution": {
          "iopub.status.busy": "2025-04-18T07:43:54.009451Z",
          "iopub.execute_input": "2025-04-18T07:43:54.009693Z",
          "iopub.status.idle": "2025-04-18T07:43:55.149532Z",
          "shell.execute_reply.started": "2025-04-18T07:43:54.009676Z",
          "shell.execute_reply": "2025-04-18T07:43:55.148855Z"
        },
        "id": "te2O9EJWh-GN"
      },
      "outputs": [],
      "execution_count": null
    },
    {
      "cell_type": "code",
      "source": [
        "x_train, x_val, y_train, y_val = train_test_split(x_train, y_train, test_size=0.2, random_state=42, stratify=y_train)\n",
        "\n",
        "class_weights = class_weight.compute_class_weight('balanced', classes=np.unique(y_train), y=y_train)\n",
        "class_weight_dict = {0: class_weights[0], 1: class_weights[1]}"
      ],
      "metadata": {
        "trusted": true,
        "execution": {
          "iopub.status.busy": "2025-04-18T07:44:13.552657Z",
          "iopub.execute_input": "2025-04-18T07:44:13.553176Z",
          "iopub.status.idle": "2025-04-18T07:44:14.368421Z",
          "shell.execute_reply.started": "2025-04-18T07:44:13.553154Z",
          "shell.execute_reply": "2025-04-18T07:44:14.367572Z"
        },
        "id": "6s3I3BYPh-GO"
      },
      "outputs": [],
      "execution_count": null
    },
    {
      "cell_type": "code",
      "source": [
        "data_generator = ImageDataGenerator(\n",
        "    rotation_range=45,\n",
        "    zoom_range=0.3,\n",
        "    width_shift_range=0.25,\n",
        "    height_shift_range=0.25,\n",
        "    horizontal_flip=True,\n",
        "    shear_range=0.25,\n",
        "    brightness_range=[0.8, 1.2],\n",
        "    fill_mode='nearest'\n",
        ")\n",
        "data_generator.fit(x_train)"
      ],
      "metadata": {
        "trusted": true,
        "execution": {
          "iopub.status.busy": "2025-04-18T08:08:31.530640Z",
          "iopub.execute_input": "2025-04-18T08:08:31.530927Z",
          "iopub.status.idle": "2025-04-18T08:08:32.337326Z",
          "shell.execute_reply.started": "2025-04-18T08:08:31.530907Z",
          "shell.execute_reply": "2025-04-18T08:08:32.336726Z"
        },
        "id": "bWo6JcUPh-GP"
      },
      "outputs": [],
      "execution_count": null
    },
    {
      "cell_type": "code",
      "source": [
        "from keras.layers import BatchNormalization\n",
        "\n",
        "img_size = 150\n",
        "base_model = ResNet50(weights='imagenet', include_top=False, input_shape=(img_size, img_size, 3))\n",
        "\n",
        "\n",
        "base_model.trainable = True\n",
        "for layer in base_model.layers[:-5]:#here we are unfreezing last 5 layers\n",
        "    layer.trainable = False\n",
        "\n",
        "inputs = Input(shape=(img_size, img_size, 3))\n",
        "x = base_model(inputs, training=False)\n",
        "x = GlobalAveragePooling2D()(x)\n",
        "x = Dense(128, activation='relu', kernel_regularizer=l2(0.01))(x)\n",
        "x = BatchNormalization()(x)\n",
        "x = Dropout(0.5)(x)\n",
        "outputs = Dense(1, activation='sigmoid')(x)\n",
        "model = Model(inputs, outputs)\n",
        "\n",
        "\n",
        "model.compile(optimizer=keras.optimizers.Adam(learning_rate=1e-4), loss='binary_crossentropy', metrics=['accuracy'])\n",
        "\n",
        "model.summary()\n"
      ],
      "metadata": {
        "trusted": true,
        "execution": {
          "iopub.status.busy": "2025-04-18T08:10:04.139129Z",
          "iopub.execute_input": "2025-04-18T08:10:04.139396Z",
          "iopub.status.idle": "2025-04-18T08:10:05.129688Z",
          "shell.execute_reply.started": "2025-04-18T08:10:04.139377Z",
          "shell.execute_reply": "2025-04-18T08:10:05.129140Z"
        },
        "id": "EghENRRFh-GQ",
        "outputId": "4d09c513-21d7-466d-b4fb-207f81397429"
      },
      "outputs": [
        {
          "output_type": "display_data",
          "data": {
            "text/plain": "\u001b[1mModel: \"functional_5\"\u001b[0m\n",
            "text/html": "<pre style=\"white-space:pre;overflow-x:auto;line-height:normal;font-family:Menlo,'DejaVu Sans Mono',consolas,'Courier New',monospace\"><span style=\"font-weight: bold\">Model: \"functional_5\"</span>\n</pre>\n"
          },
          "metadata": {}
        },
        {
          "output_type": "display_data",
          "data": {
            "text/plain": "┏━━━━━━━━━━━━━━━━━━━━━━━━━━━━━━━━━━━━━━┳━━━━━━━━━━━━━━━━━━━━━━━━━━━━━┳━━━━━━━━━━━━━━━━━┓\n┃\u001b[1m \u001b[0m\u001b[1mLayer (type)                        \u001b[0m\u001b[1m \u001b[0m┃\u001b[1m \u001b[0m\u001b[1mOutput Shape               \u001b[0m\u001b[1m \u001b[0m┃\u001b[1m \u001b[0m\u001b[1m        Param #\u001b[0m\u001b[1m \u001b[0m┃\n┡━━━━━━━━━━━━━━━━━━━━━━━━━━━━━━━━━━━━━━╇━━━━━━━━━━━━━━━━━━━━━━━━━━━━━╇━━━━━━━━━━━━━━━━━┩\n│ input_layer_13 (\u001b[38;5;33mInputLayer\u001b[0m)          │ (\u001b[38;5;45mNone\u001b[0m, \u001b[38;5;34m150\u001b[0m, \u001b[38;5;34m150\u001b[0m, \u001b[38;5;34m3\u001b[0m)         │               \u001b[38;5;34m0\u001b[0m │\n├──────────────────────────────────────┼─────────────────────────────┼─────────────────┤\n│ resnet50 (\u001b[38;5;33mFunctional\u001b[0m)                │ (\u001b[38;5;45mNone\u001b[0m, \u001b[38;5;34m5\u001b[0m, \u001b[38;5;34m5\u001b[0m, \u001b[38;5;34m2048\u001b[0m)          │      \u001b[38;5;34m23,587,712\u001b[0m │\n├──────────────────────────────────────┼─────────────────────────────┼─────────────────┤\n│ global_average_pooling2d_6           │ (\u001b[38;5;45mNone\u001b[0m, \u001b[38;5;34m2048\u001b[0m)                │               \u001b[38;5;34m0\u001b[0m │\n│ (\u001b[38;5;33mGlobalAveragePooling2D\u001b[0m)             │                             │                 │\n├──────────────────────────────────────┼─────────────────────────────┼─────────────────┤\n│ dense_11 (\u001b[38;5;33mDense\u001b[0m)                     │ (\u001b[38;5;45mNone\u001b[0m, \u001b[38;5;34m128\u001b[0m)                 │         \u001b[38;5;34m262,272\u001b[0m │\n├──────────────────────────────────────┼─────────────────────────────┼─────────────────┤\n│ batch_normalization                  │ (\u001b[38;5;45mNone\u001b[0m, \u001b[38;5;34m128\u001b[0m)                 │             \u001b[38;5;34m512\u001b[0m │\n│ (\u001b[38;5;33mBatchNormalization\u001b[0m)                 │                             │                 │\n├──────────────────────────────────────┼─────────────────────────────┼─────────────────┤\n│ dropout_5 (\u001b[38;5;33mDropout\u001b[0m)                  │ (\u001b[38;5;45mNone\u001b[0m, \u001b[38;5;34m128\u001b[0m)                 │               \u001b[38;5;34m0\u001b[0m │\n├──────────────────────────────────────┼─────────────────────────────┼─────────────────┤\n│ dense_12 (\u001b[38;5;33mDense\u001b[0m)                     │ (\u001b[38;5;45mNone\u001b[0m, \u001b[38;5;34m1\u001b[0m)                   │             \u001b[38;5;34m129\u001b[0m │\n└──────────────────────────────────────┴─────────────────────────────┴─────────────────┘\n",
            "text/html": "<pre style=\"white-space:pre;overflow-x:auto;line-height:normal;font-family:Menlo,'DejaVu Sans Mono',consolas,'Courier New',monospace\">┏━━━━━━━━━━━━━━━━━━━━━━━━━━━━━━━━━━━━━━┳━━━━━━━━━━━━━━━━━━━━━━━━━━━━━┳━━━━━━━━━━━━━━━━━┓\n┃<span style=\"font-weight: bold\"> Layer (type)                         </span>┃<span style=\"font-weight: bold\"> Output Shape                </span>┃<span style=\"font-weight: bold\">         Param # </span>┃\n┡━━━━━━━━━━━━━━━━━━━━━━━━━━━━━━━━━━━━━━╇━━━━━━━━━━━━━━━━━━━━━━━━━━━━━╇━━━━━━━━━━━━━━━━━┩\n│ input_layer_13 (<span style=\"color: #0087ff; text-decoration-color: #0087ff\">InputLayer</span>)          │ (<span style=\"color: #00d7ff; text-decoration-color: #00d7ff\">None</span>, <span style=\"color: #00af00; text-decoration-color: #00af00\">150</span>, <span style=\"color: #00af00; text-decoration-color: #00af00\">150</span>, <span style=\"color: #00af00; text-decoration-color: #00af00\">3</span>)         │               <span style=\"color: #00af00; text-decoration-color: #00af00\">0</span> │\n├──────────────────────────────────────┼─────────────────────────────┼─────────────────┤\n│ resnet50 (<span style=\"color: #0087ff; text-decoration-color: #0087ff\">Functional</span>)                │ (<span style=\"color: #00d7ff; text-decoration-color: #00d7ff\">None</span>, <span style=\"color: #00af00; text-decoration-color: #00af00\">5</span>, <span style=\"color: #00af00; text-decoration-color: #00af00\">5</span>, <span style=\"color: #00af00; text-decoration-color: #00af00\">2048</span>)          │      <span style=\"color: #00af00; text-decoration-color: #00af00\">23,587,712</span> │\n├──────────────────────────────────────┼─────────────────────────────┼─────────────────┤\n│ global_average_pooling2d_6           │ (<span style=\"color: #00d7ff; text-decoration-color: #00d7ff\">None</span>, <span style=\"color: #00af00; text-decoration-color: #00af00\">2048</span>)                │               <span style=\"color: #00af00; text-decoration-color: #00af00\">0</span> │\n│ (<span style=\"color: #0087ff; text-decoration-color: #0087ff\">GlobalAveragePooling2D</span>)             │                             │                 │\n├──────────────────────────────────────┼─────────────────────────────┼─────────────────┤\n│ dense_11 (<span style=\"color: #0087ff; text-decoration-color: #0087ff\">Dense</span>)                     │ (<span style=\"color: #00d7ff; text-decoration-color: #00d7ff\">None</span>, <span style=\"color: #00af00; text-decoration-color: #00af00\">128</span>)                 │         <span style=\"color: #00af00; text-decoration-color: #00af00\">262,272</span> │\n├──────────────────────────────────────┼─────────────────────────────┼─────────────────┤\n│ batch_normalization                  │ (<span style=\"color: #00d7ff; text-decoration-color: #00d7ff\">None</span>, <span style=\"color: #00af00; text-decoration-color: #00af00\">128</span>)                 │             <span style=\"color: #00af00; text-decoration-color: #00af00\">512</span> │\n│ (<span style=\"color: #0087ff; text-decoration-color: #0087ff\">BatchNormalization</span>)                 │                             │                 │\n├──────────────────────────────────────┼─────────────────────────────┼─────────────────┤\n│ dropout_5 (<span style=\"color: #0087ff; text-decoration-color: #0087ff\">Dropout</span>)                  │ (<span style=\"color: #00d7ff; text-decoration-color: #00d7ff\">None</span>, <span style=\"color: #00af00; text-decoration-color: #00af00\">128</span>)                 │               <span style=\"color: #00af00; text-decoration-color: #00af00\">0</span> │\n├──────────────────────────────────────┼─────────────────────────────┼─────────────────┤\n│ dense_12 (<span style=\"color: #0087ff; text-decoration-color: #0087ff\">Dense</span>)                     │ (<span style=\"color: #00d7ff; text-decoration-color: #00d7ff\">None</span>, <span style=\"color: #00af00; text-decoration-color: #00af00\">1</span>)                   │             <span style=\"color: #00af00; text-decoration-color: #00af00\">129</span> │\n└──────────────────────────────────────┴─────────────────────────────┴─────────────────┘\n</pre>\n"
          },
          "metadata": {}
        },
        {
          "output_type": "display_data",
          "data": {
            "text/plain": "\u001b[1m Total params: \u001b[0m\u001b[38;5;34m23,850,625\u001b[0m (90.98 MB)\n",
            "text/html": "<pre style=\"white-space:pre;overflow-x:auto;line-height:normal;font-family:Menlo,'DejaVu Sans Mono',consolas,'Courier New',monospace\"><span style=\"font-weight: bold\"> Total params: </span><span style=\"color: #00af00; text-decoration-color: #00af00\">23,850,625</span> (90.98 MB)\n</pre>\n"
          },
          "metadata": {}
        },
        {
          "output_type": "display_data",
          "data": {
            "text/plain": "\u001b[1m Trainable params: \u001b[0m\u001b[38;5;34m1,317,377\u001b[0m (5.03 MB)\n",
            "text/html": "<pre style=\"white-space:pre;overflow-x:auto;line-height:normal;font-family:Menlo,'DejaVu Sans Mono',consolas,'Courier New',monospace\"><span style=\"font-weight: bold\"> Trainable params: </span><span style=\"color: #00af00; text-decoration-color: #00af00\">1,317,377</span> (5.03 MB)\n</pre>\n"
          },
          "metadata": {}
        },
        {
          "output_type": "display_data",
          "data": {
            "text/plain": "\u001b[1m Non-trainable params: \u001b[0m\u001b[38;5;34m22,533,248\u001b[0m (85.96 MB)\n",
            "text/html": "<pre style=\"white-space:pre;overflow-x:auto;line-height:normal;font-family:Menlo,'DejaVu Sans Mono',consolas,'Courier New',monospace\"><span style=\"font-weight: bold\"> Non-trainable params: </span><span style=\"color: #00af00; text-decoration-color: #00af00\">22,533,248</span> (85.96 MB)\n</pre>\n"
          },
          "metadata": {}
        }
      ],
      "execution_count": null
    },
    {
      "cell_type": "code",
      "source": [
        "\n",
        "\n",
        "learning_rate_reduction = ReduceLROnPlateau(monitor='val_accuracy', patience=3, verbose=1, factor=0.5, min_lr=1e-7)\n",
        "early_stopping = EarlyStopping(monitor='val_accuracy', patience=7, verbose=1, restore_best_weights=True)\n",
        "\n",
        "history = model.fit(\n",
        "    train_dataset,\n",
        "    epochs=30,\n",
        "    validation_data=(x_val, y_val),\n",
        "    class_weight=class_weight_dict,\n",
        "    callbacks=[learning_rate_reduction, early_stopping]\n",
        ")"
      ],
      "metadata": {
        "trusted": true,
        "execution": {
          "iopub.status.busy": "2025-04-18T08:12:24.582817Z",
          "iopub.execute_input": "2025-04-18T08:12:24.583625Z",
          "iopub.status.idle": "2025-04-18T08:20:25.980150Z",
          "shell.execute_reply.started": "2025-04-18T08:12:24.583593Z",
          "shell.execute_reply": "2025-04-18T08:20:25.979378Z"
        },
        "id": "7t_1U0Qjh-GS",
        "outputId": "834646e6-dbb5-4f81-b906-b1d016a16c2a"
      },
      "outputs": [
        {
          "name": "stdout",
          "text": "Epoch 1/30\n\u001b[1m66/66\u001b[0m \u001b[32m━━━━━━━━━━━━━━━━━━━━\u001b[0m\u001b[37m\u001b[0m \u001b[1m25s\u001b[0m 297ms/step - accuracy: 0.7038 - loss: 1.0825 - val_accuracy: 0.2567 - val_loss: 1.9547 - learning_rate: 1.0000e-04\nEpoch 2/30\n\u001b[1m66/66\u001b[0m \u001b[32m━━━━━━━━━━━━━━━━━━━━\u001b[0m\u001b[37m\u001b[0m \u001b[1m21s\u001b[0m 282ms/step - accuracy: 0.7493 - loss: 0.8662 - val_accuracy: 0.8659 - val_loss: 0.6966 - learning_rate: 1.0000e-04\nEpoch 3/30\n\u001b[1m66/66\u001b[0m \u001b[32m━━━━━━━━━━━━━━━━━━━━\u001b[0m\u001b[37m\u001b[0m \u001b[1m21s\u001b[0m 283ms/step - accuracy: 0.7874 - loss: 0.7718 - val_accuracy: 0.2577 - val_loss: 2.1255 - learning_rate: 1.0000e-04\nEpoch 4/30\n\u001b[1m66/66\u001b[0m \u001b[32m━━━━━━━━━━━━━━━━━━━━\u001b[0m\u001b[37m\u001b[0m \u001b[1m21s\u001b[0m 283ms/step - accuracy: 0.7904 - loss: 0.7062 - val_accuracy: 0.9023 - val_loss: 0.5410 - learning_rate: 1.0000e-04\nEpoch 5/30\n\u001b[1m66/66\u001b[0m \u001b[32m━━━━━━━━━━━━━━━━━━━━\u001b[0m\u001b[37m\u001b[0m \u001b[1m21s\u001b[0m 283ms/step - accuracy: 0.7940 - loss: 0.6537 - val_accuracy: 0.8927 - val_loss: 0.4913 - learning_rate: 1.0000e-04\nEpoch 6/30\n\u001b[1m66/66\u001b[0m \u001b[32m━━━━━━━━━━━━━━━━━━━━\u001b[0m\u001b[37m\u001b[0m \u001b[1m21s\u001b[0m 283ms/step - accuracy: 0.8037 - loss: 0.6248 - val_accuracy: 0.7720 - val_loss: 0.6745 - learning_rate: 1.0000e-04\nEpoch 7/30\n\u001b[1m66/66\u001b[0m \u001b[32m━━━━━━━━━━━━━━━━━━━━\u001b[0m\u001b[37m\u001b[0m \u001b[1m0s\u001b[0m 256ms/step - accuracy: 0.8125 - loss: 0.5770\nEpoch 7: ReduceLROnPlateau reducing learning rate to 4.999999873689376e-05.\n\u001b[1m66/66\u001b[0m \u001b[32m━━━━━━━━━━━━━━━━━━━━\u001b[0m\u001b[37m\u001b[0m \u001b[1m21s\u001b[0m 280ms/step - accuracy: 0.8126 - loss: 0.5769 - val_accuracy: 0.7596 - val_loss: 0.7155 - learning_rate: 1.0000e-04\nEpoch 8/30\n\u001b[1m66/66\u001b[0m \u001b[32m━━━━━━━━━━━━━━━━━━━━\u001b[0m\u001b[37m\u001b[0m \u001b[1m21s\u001b[0m 282ms/step - accuracy: 0.8294 - loss: 0.5437 - val_accuracy: 0.9061 - val_loss: 0.4135 - learning_rate: 5.0000e-05\nEpoch 9/30\n\u001b[1m66/66\u001b[0m \u001b[32m━━━━━━━━━━━━━━━━━━━━\u001b[0m\u001b[37m\u001b[0m \u001b[1m21s\u001b[0m 286ms/step - accuracy: 0.8351 - loss: 0.5155 - val_accuracy: 0.7912 - val_loss: 0.6952 - learning_rate: 5.0000e-05\nEpoch 10/30\n\u001b[1m66/66\u001b[0m \u001b[32m━━━━━━━━━━━━━━━━━━━━\u001b[0m\u001b[37m\u001b[0m \u001b[1m21s\u001b[0m 286ms/step - accuracy: 0.8288 - loss: 0.5182 - val_accuracy: 0.9176 - val_loss: 0.4214 - learning_rate: 5.0000e-05\nEpoch 11/30\n\u001b[1m66/66\u001b[0m \u001b[32m━━━━━━━━━━━━━━━━━━━━\u001b[0m\u001b[37m\u001b[0m \u001b[1m21s\u001b[0m 284ms/step - accuracy: 0.8292 - loss: 0.5151 - val_accuracy: 0.8975 - val_loss: 0.3932 - learning_rate: 5.0000e-05\nEpoch 12/30\n\u001b[1m66/66\u001b[0m \u001b[32m━━━━━━━━━━━━━━━━━━━━\u001b[0m\u001b[37m\u001b[0m \u001b[1m21s\u001b[0m 282ms/step - accuracy: 0.8436 - loss: 0.4918 - val_accuracy: 0.9186 - val_loss: 0.4017 - learning_rate: 5.0000e-05\nEpoch 13/30\n\u001b[1m66/66\u001b[0m \u001b[32m━━━━━━━━━━━━━━━━━━━━\u001b[0m\u001b[37m\u001b[0m \u001b[1m21s\u001b[0m 281ms/step - accuracy: 0.8365 - loss: 0.4949 - val_accuracy: 0.7845 - val_loss: 0.6732 - learning_rate: 5.0000e-05\nEpoch 14/30\n\u001b[1m66/66\u001b[0m \u001b[32m━━━━━━━━━━━━━━━━━━━━\u001b[0m\u001b[37m\u001b[0m \u001b[1m21s\u001b[0m 283ms/step - accuracy: 0.8492 - loss: 0.4631 - val_accuracy: 0.8372 - val_loss: 0.5946 - learning_rate: 5.0000e-05\nEpoch 15/30\n\u001b[1m66/66\u001b[0m \u001b[32m━━━━━━━━━━━━━━━━━━━━\u001b[0m\u001b[37m\u001b[0m \u001b[1m0s\u001b[0m 255ms/step - accuracy: 0.8475 - loss: 0.4693\nEpoch 15: ReduceLROnPlateau reducing learning rate to 2.499999936844688e-05.\n\u001b[1m66/66\u001b[0m \u001b[32m━━━━━━━━━━━━━━━━━━━━\u001b[0m\u001b[37m\u001b[0m \u001b[1m20s\u001b[0m 278ms/step - accuracy: 0.8475 - loss: 0.4693 - val_accuracy: 0.9109 - val_loss: 0.3490 - learning_rate: 5.0000e-05\nEpoch 16/30\n\u001b[1m66/66\u001b[0m \u001b[32m━━━━━━━━━━━━━━━━━━━━\u001b[0m\u001b[37m\u001b[0m \u001b[1m20s\u001b[0m 278ms/step - accuracy: 0.8415 - loss: 0.4697 - val_accuracy: 0.9224 - val_loss: 0.3571 - learning_rate: 2.5000e-05\nEpoch 17/30\n\u001b[1m66/66\u001b[0m \u001b[32m━━━━━━━━━━━━━━━━━━━━\u001b[0m\u001b[37m\u001b[0m \u001b[1m21s\u001b[0m 282ms/step - accuracy: 0.8388 - loss: 0.4721 - val_accuracy: 0.9186 - val_loss: 0.3434 - learning_rate: 2.5000e-05\nEpoch 18/30\n\u001b[1m66/66\u001b[0m \u001b[32m━━━━━━━━━━━━━━━━━━━━\u001b[0m\u001b[37m\u001b[0m \u001b[1m21s\u001b[0m 284ms/step - accuracy: 0.8526 - loss: 0.4637 - val_accuracy: 0.7203 - val_loss: 0.7884 - learning_rate: 2.5000e-05\nEpoch 19/30\n\u001b[1m66/66\u001b[0m \u001b[32m━━━━━━━━━━━━━━━━━━━━\u001b[0m\u001b[37m\u001b[0m \u001b[1m0s\u001b[0m 256ms/step - accuracy: 0.8469 - loss: 0.4534\nEpoch 19: ReduceLROnPlateau reducing learning rate to 1.249999968422344e-05.\n\u001b[1m66/66\u001b[0m \u001b[32m━━━━━━━━━━━━━━━━━━━━\u001b[0m\u001b[37m\u001b[0m \u001b[1m21s\u001b[0m 280ms/step - accuracy: 0.8470 - loss: 0.4532 - val_accuracy: 0.4617 - val_loss: 1.3232 - learning_rate: 2.5000e-05\nEpoch 20/30\n\u001b[1m66/66\u001b[0m \u001b[32m━━━━━━━━━━━━━━━━━━━━\u001b[0m\u001b[37m\u001b[0m \u001b[1m21s\u001b[0m 282ms/step - accuracy: 0.8587 - loss: 0.4402 - val_accuracy: 0.9205 - val_loss: 0.3529 - learning_rate: 1.2500e-05\nEpoch 21/30\n\u001b[1m66/66\u001b[0m \u001b[32m━━━━━━━━━━━━━━━━━━━━\u001b[0m\u001b[37m\u001b[0m \u001b[1m21s\u001b[0m 280ms/step - accuracy: 0.8616 - loss: 0.4324 - val_accuracy: 0.7519 - val_loss: 0.7072 - learning_rate: 1.2500e-05\nEpoch 22/30\n\u001b[1m66/66\u001b[0m \u001b[32m━━━━━━━━━━━━━━━━━━━━\u001b[0m\u001b[37m\u001b[0m \u001b[1m0s\u001b[0m 254ms/step - accuracy: 0.8657 - loss: 0.4238\nEpoch 22: ReduceLROnPlateau reducing learning rate to 6.24999984211172e-06.\n\u001b[1m66/66\u001b[0m \u001b[32m━━━━━━━━━━━━━━━━━━━━\u001b[0m\u001b[37m\u001b[0m \u001b[1m20s\u001b[0m 278ms/step - accuracy: 0.8656 - loss: 0.4239 - val_accuracy: 0.8994 - val_loss: 0.4142 - learning_rate: 1.2500e-05\nEpoch 23/30\n\u001b[1m66/66\u001b[0m \u001b[32m━━━━━━━━━━━━━━━━━━━━\u001b[0m\u001b[37m\u001b[0m \u001b[1m21s\u001b[0m 283ms/step - accuracy: 0.8609 - loss: 0.4324 - val_accuracy: 0.9119 - val_loss: 0.3744 - learning_rate: 6.2500e-06\nEpoch 23: early stopping\nRestoring model weights from the end of the best epoch: 16.\n",
          "output_type": "stream"
        }
      ],
      "execution_count": null
    },
    {
      "cell_type": "code",
      "source": [
        "print(\"Loss of the model is - \", model.evaluate(x_test, y_test)[0])\n",
        "print(\"Accuracy of the model is - \", model.evaluate(x_test, y_test)[1] * 100, \"%\")"
      ],
      "metadata": {
        "trusted": true,
        "execution": {
          "iopub.status.busy": "2025-04-18T08:20:49.884580Z",
          "iopub.execute_input": "2025-04-18T08:20:49.885092Z",
          "iopub.status.idle": "2025-04-18T08:20:54.652402Z",
          "shell.execute_reply.started": "2025-04-18T08:20:49.885061Z",
          "shell.execute_reply": "2025-04-18T08:20:54.651811Z"
        },
        "id": "18DKm2lWh-GU",
        "outputId": "4e5941d9-6fca-4730-8c94-b826dddf1915"
      },
      "outputs": [
        {
          "name": "stdout",
          "text": "\u001b[1m20/20\u001b[0m \u001b[32m━━━━━━━━━━━━━━━━━━━━\u001b[0m\u001b[37m\u001b[0m \u001b[1m3s\u001b[0m 135ms/step - accuracy: 0.9194 - loss: 0.3405\nLoss of the model is -  0.529679000377655\n\u001b[1m20/20\u001b[0m \u001b[32m━━━━━━━━━━━━━━━━━━━━\u001b[0m\u001b[37m\u001b[0m \u001b[1m1s\u001b[0m 49ms/step - accuracy: 0.9194 - loss: 0.3405\nAccuracy of the model is -  84.61538553237915 %\n",
          "output_type": "stream"
        }
      ],
      "execution_count": null
    },
    {
      "cell_type": "code",
      "source": [
        "predictions = (model.predict(x_test) > 0.5).astype(\"int32\").reshape(-1)\n",
        "print(\"THE CLASSIFICATION REPORT OF RESNET50 IS AS FOLLOWS:\")\n",
        "print(classification_report(y_test, predictions, target_names=['Pneumonia', 'Normal']))"
      ],
      "metadata": {
        "trusted": true,
        "execution": {
          "iopub.status.busy": "2025-04-18T08:21:07.341540Z",
          "iopub.execute_input": "2025-04-18T08:21:07.341817Z",
          "iopub.status.idle": "2025-04-18T08:21:17.960797Z",
          "shell.execute_reply.started": "2025-04-18T08:21:07.341796Z",
          "shell.execute_reply": "2025-04-18T08:21:17.959972Z"
        },
        "id": "5EVbOgtmh-GV",
        "outputId": "4015bbc5-7f93-47ec-9af0-751d77a1f8b9"
      },
      "outputs": [
        {
          "name": "stdout",
          "text": "\u001b[1m20/20\u001b[0m \u001b[32m━━━━━━━━━━━━━━━━━━━━\u001b[0m\u001b[37m\u001b[0m \u001b[1m10s\u001b[0m 308ms/step\nTHE CLASSIFICATION REPORT OF RESNET50 IS AS FOLLOWS:\n              precision    recall  f1-score   support\n\n   Pneumonia       0.82      0.96      0.89       390\n      Normal       0.91      0.65      0.76       234\n\n    accuracy                           0.85       624\n   macro avg       0.87      0.81      0.82       624\nweighted avg       0.86      0.85      0.84       624\n\n",
          "output_type": "stream"
        }
      ],
      "execution_count": null
    },
    {
      "cell_type": "markdown",
      "source": [
        "# LEARNINGS\n",
        ">   So we are getting an accuracy of 85 percent from resnet which is lower than that of the CNN Model\n",
        "> Slight overfitting is done but the Recall of pneumonia is great which is a good sign F1 scores are also decent but not better than CNN\n",
        "> Data augmentation and probably oversampling methods could be used since dataset is imbalanced\n",
        "> also Validation Set is really small only 10 images therefore we are ignoring that and dealing with the training and testing dataset only. We can improve the resnet by doing some hyperparameter tuning as well. This was a really great learning"
      ],
      "metadata": {
        "id": "ipiO03p7h-GW"
      }
    }
  ]
}