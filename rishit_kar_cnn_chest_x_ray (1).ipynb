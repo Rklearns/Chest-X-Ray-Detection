{
  "metadata": {
    "kernelspec": {
      "language": "python",
      "display_name": "Python 3",
      "name": "python3"
    },
    "language_info": {
      "name": "python",
      "version": "3.7.10",
      "mimetype": "text/x-python",
      "codemirror_mode": {
        "name": "ipython",
        "version": 3
      },
      "pygments_lexer": "ipython3",
      "nbconvert_exporter": "python",
      "file_extension": ".py"
    },
    "kaggle": {
      "accelerator": "nvidiaTeslaT4",
      "dataSources": [
        {
          "sourceId": 23812,
          "sourceType": "datasetVersion",
          "datasetId": 17810
        }
      ],
      "dockerImageVersionId": 30132,
      "isInternetEnabled": true,
      "language": "python",
      "sourceType": "notebook",
      "isGpuEnabled": true
    },
    "colab": {
      "provenance": []
    }
  },
  "nbformat_minor": 0,
  "nbformat": 4,
  "cells": [
    {
      "cell_type": "code",
      "source": [
        "# This Python 3 environment comes with many helpful analytics libraries installed\n",
        "# It is defined by the kaggle/python Docker image: https://github.com/kaggle/docker-python\n",
        "# For example, here's several helpful packages to load\n",
        "\n",
        "import numpy as np # linear algebra\n",
        "import pandas as pd # data processing, CSV file I/O (e.g. pd.read_csv)\n",
        "\n",
        "# Input data files are available in the read-only \"../input/\" directory\n",
        "# For example, running this (by clicking run or pressing Shift+Enter) will list all files under the input directory\n",
        "\n",
        "import os\n",
        "count = 0\n",
        "for dirname, _, filenames in os.walk('/kaggle/input'):\n",
        "    for filename in filenames:\n",
        "        print(os.path.join(dirname, filename))\n",
        "        count += 1\n",
        "        if count >= 10:\n",
        "            break\n",
        "    if count >= 10:\n",
        "        break\n",
        "\n",
        "# You can write up to 20GB to the current directory (/kaggle/working/) that gets preserved as output when you create a version using \"Save & Run All\"\n",
        "# You can also write temporary files to /kaggle/temp/, but they won't be saved outside of the current session"
      ],
      "metadata": {
        "_kg_hide-input": true,
        "_kg_hide-output": true,
        "execution": {
          "iopub.status.busy": "2025-04-18T05:53:16.465414Z",
          "iopub.execute_input": "2025-04-18T05:53:16.465612Z",
          "iopub.status.idle": "2025-04-18T05:53:45.119718Z",
          "shell.execute_reply.started": "2025-04-18T05:53:16.465555Z",
          "shell.execute_reply": "2025-04-18T05:53:45.119014Z"
        },
        "trusted": true,
        "id": "YsYlvUtQgAv7"
      },
      "outputs": [],
      "execution_count": 2
    },
    {
      "cell_type": "code",
      "source": [
        "import matplotlib.pyplot as plt\n",
        "import seaborn as sns\n",
        "from tensorflow import keras\n",
        "from tensorflow.keras.models import Sequential\n",
        "from tensorflow.keras.layers import Dense, Conv2D , MaxPool2D , Flatten , Dropout , BatchNormalization\n",
        "from tensorflow.keras.preprocessing.image import ImageDataGenerator\n",
        "from sklearn.model_selection import train_test_split\n",
        "from tensorflow.keras.callbacks import ReduceLROnPlateau\n",
        "import cv2\n",
        "import os"
      ],
      "metadata": {
        "execution": {
          "iopub.status.busy": "2025-04-18T06:12:40.131679Z",
          "iopub.execute_input": "2025-04-18T06:12:40.132372Z",
          "iopub.status.idle": "2025-04-18T06:12:40.136700Z",
          "shell.execute_reply.started": "2025-04-18T06:12:40.132340Z",
          "shell.execute_reply": "2025-04-18T06:12:40.135988Z"
        },
        "trusted": true,
        "id": "rE2_y4e7gAwE"
      },
      "outputs": [],
      "execution_count": 3
    },
    {
      "cell_type": "code",
      "source": [
        "labels = ['PNEUMONIA', 'NORMAL']\n",
        "def get_training_data(data_dir):\n",
        "    data = []\n",
        "    for label in labels:\n",
        "        path = os.path.join(data_dir, label)\n",
        "        class_num = labels.index(label)\n",
        "        for img in os.listdir(path):\n",
        "            try:\n",
        "                img_arr = cv2.imread(os.path.join(path, img), cv2.IMREAD_GRAYSCALE)\n",
        "                resized_arr = cv2.resize(img_arr, (150, 150))\n",
        "                data.append([resized_arr, class_num])\n",
        "            except Exception as e:\n",
        "                print(e)\n",
        "    return np.array(data)"
      ],
      "metadata": {
        "execution": {
          "iopub.status.busy": "2025-04-18T06:12:41.432978Z",
          "iopub.execute_input": "2025-04-18T06:12:41.433568Z",
          "iopub.status.idle": "2025-04-18T06:12:41.438805Z",
          "shell.execute_reply.started": "2025-04-18T06:12:41.433538Z",
          "shell.execute_reply": "2025-04-18T06:12:41.437931Z"
        },
        "trusted": true,
        "id": "jBcIeQHDgAwF"
      },
      "outputs": [],
      "execution_count": null
    },
    {
      "cell_type": "code",
      "source": [
        "train = get_training_data('/kaggle/input/chest-xray-pneumonia/chest_xray/train')\n",
        "test = get_training_data('/kaggle/input/chest-xray-pneumonia/chest_xray/test')"
      ],
      "metadata": {
        "execution": {
          "iopub.status.busy": "2025-04-18T06:12:42.674823Z",
          "iopub.execute_input": "2025-04-18T06:12:42.675112Z",
          "iopub.status.idle": "2025-04-18T06:13:31.980419Z",
          "shell.execute_reply.started": "2025-04-18T06:12:42.675081Z",
          "shell.execute_reply": "2025-04-18T06:13:31.979864Z"
        },
        "trusted": true,
        "id": "tcBshWCPgAwH",
        "outputId": "fa6a6145-3511-43ed-e9f8-628290c58efb"
      },
      "outputs": [
        {
          "name": "stderr",
          "text": "/opt/conda/lib/python3.7/site-packages/ipykernel_launcher.py:14: VisibleDeprecationWarning: Creating an ndarray from ragged nested sequences (which is a list-or-tuple of lists-or-tuples-or ndarrays with different lengths or shapes) is deprecated. If you meant to do this, you must specify 'dtype=object' when creating the ndarray\n  \n",
          "output_type": "stream"
        }
      ],
      "execution_count": null
    },
    {
      "cell_type": "code",
      "source": [
        "x_train = []\n",
        "y_train = []\n",
        "\n",
        "for feature, label in train:\n",
        "    x_train.append(feature)\n",
        "    y_train.append(label)\n",
        "\n",
        "x_test = []\n",
        "y_test = []\n",
        "\n",
        "for feature, label in test:\n",
        "    x_test.append(feature)\n",
        "    y_test.append(label)"
      ],
      "metadata": {
        "trusted": true,
        "execution": {
          "iopub.status.busy": "2025-04-18T06:14:31.901724Z",
          "iopub.execute_input": "2025-04-18T06:14:31.902136Z",
          "iopub.status.idle": "2025-04-18T06:14:31.916682Z",
          "shell.execute_reply.started": "2025-04-18T06:14:31.902102Z",
          "shell.execute_reply": "2025-04-18T06:14:31.915947Z"
        },
        "id": "GaeoBUETgAwI"
      },
      "outputs": [],
      "execution_count": null
    },
    {
      "cell_type": "code",
      "source": [
        "x_train = np.array(x_train) / 255\n",
        "x_test = np.array(x_test) / 255"
      ],
      "metadata": {
        "trusted": true,
        "execution": {
          "iopub.status.busy": "2025-04-18T06:14:33.115466Z",
          "iopub.execute_input": "2025-04-18T06:14:33.115731Z",
          "iopub.status.idle": "2025-04-18T06:14:33.476866Z",
          "shell.execute_reply.started": "2025-04-18T06:14:33.115700Z",
          "shell.execute_reply": "2025-04-18T06:14:33.476092Z"
        },
        "id": "oYGi5NtngAwJ"
      },
      "outputs": [],
      "execution_count": null
    },
    {
      "cell_type": "code",
      "source": [
        "img_size=150\n",
        "x_train = x_train.reshape(-1, img_size, img_size, 1)\n",
        "y_train = np.array(y_train)\n",
        "\n",
        "x_test = x_test.reshape(-1, img_size, img_size, 1)\n",
        "y_test = np.array(y_test)"
      ],
      "metadata": {
        "trusted": true,
        "execution": {
          "iopub.status.busy": "2025-04-18T06:14:46.126528Z",
          "iopub.execute_input": "2025-04-18T06:14:46.126802Z",
          "iopub.status.idle": "2025-04-18T06:14:46.131928Z",
          "shell.execute_reply.started": "2025-04-18T06:14:46.126771Z",
          "shell.execute_reply": "2025-04-18T06:14:46.131256Z"
        },
        "id": "kMlVb_ZUgAwK"
      },
      "outputs": [],
      "execution_count": null
    },
    {
      "cell_type": "code",
      "source": [
        "data_generator = ImageDataGenerator(\n",
        "        featurewise_center=False,\n",
        "        samplewise_center=False,\n",
        "        featurewise_std_normalization=False,\n",
        "        samplewise_std_normalization=False,\n",
        "        zca_whitening=False,\n",
        "        rotation_range = 30,\n",
        "        zoom_range = 0.1,\n",
        "        width_shift_range=0.1,\n",
        "        height_shift_range=0.1,\n",
        "        horizontal_flip = True,\n",
        "        )\n",
        "#ye data augmentation process hai for eg flipping rotating normaliztion these help to precent overfitting and handle imbalanced data\n",
        "\n",
        "data_generator.fit(x_train)"
      ],
      "metadata": {
        "execution": {
          "iopub.status.busy": "2025-04-18T06:14:47.644176Z",
          "iopub.execute_input": "2025-04-18T06:14:47.644786Z",
          "iopub.status.idle": "2025-04-18T06:14:47.990969Z",
          "shell.execute_reply.started": "2025-04-18T06:14:47.644754Z",
          "shell.execute_reply": "2025-04-18T06:14:47.990181Z"
        },
        "trusted": true,
        "id": "WlVmyGy_gAwL"
      },
      "outputs": [],
      "execution_count": null
    },
    {
      "cell_type": "code",
      "source": [
        "\n",
        "model = Sequential()\n",
        "model.add(Conv2D(32,(3,3),strides=1,padding='same',activation='relu',input_shape=(150,150,1)))\n",
        "model.add(BatchNormalization())\n",
        "model.add(MaxPool2D((2,2),strides=2,padding='same'))\n",
        "\n",
        "model.add(Conv2D(64,(3,3),strides=1,padding='same',activation='relu'))\n",
        "model.add(Dropout(0.1))\n",
        "model.add(BatchNormalization())\n",
        "model.add(MaxPool2D((2,2),strides=2,padding='same'))\n",
        "\n",
        "model.add(Conv2D(64,(3,3),strides=1,padding='same',activation='relu'))\n",
        "model.add(BatchNormalization())\n",
        "model.add(MaxPool2D((2,2),strides=2,padding='same'))\n",
        "\n",
        "model.add(Conv2D(128,(3,3),strides=1,padding='same',activation='relu'))\n",
        "model.add(Dropout(0.2))\n",
        "model.add(BatchNormalization())\n",
        "model.add(MaxPool2D((2,2),strides=2,padding='same'))\n",
        "\n",
        "model.add(Conv2D(256,(3,3),strides=1,padding='same',activation='relu'))\n",
        "model.add(Dropout(0.2))\n",
        "model.add(BatchNormalization())\n",
        "model.add(MaxPool2D((2,2),strides=2,padding='same'))\n",
        "\n",
        "model.add(Flatten())\n",
        "model.add(Dense(128,activation='relu'))\n",
        "model.add(Dropout(0.2))#these prevent overfitting\n",
        "model.add(Dense(1,activation='sigmoid'))\n",
        "\n",
        "model.compile(optimizer=\"rmsprop\",loss='binary_crossentropy',metrics=['accuracy'])\n",
        "model.summary()"
      ],
      "metadata": {
        "execution": {
          "iopub.status.busy": "2025-04-18T06:15:18.292085Z",
          "iopub.execute_input": "2025-04-18T06:15:18.292663Z",
          "iopub.status.idle": "2025-04-18T06:15:18.435661Z",
          "shell.execute_reply.started": "2025-04-18T06:15:18.292630Z",
          "shell.execute_reply": "2025-04-18T06:15:18.434491Z"
        },
        "trusted": true,
        "id": "-3jeC-aUgAwM",
        "outputId": "437385bc-851f-4e24-b7c0-4ce302b48962"
      },
      "outputs": [
        {
          "name": "stdout",
          "text": "Model: \"sequential_3\"\n_________________________________________________________________\nLayer (type)                 Output Shape              Param #   \n=================================================================\nconv2d_15 (Conv2D)           (None, 150, 150, 32)      320       \n_________________________________________________________________\nbatch_normalization_15 (Batc (None, 150, 150, 32)      128       \n_________________________________________________________________\nmax_pooling2d_15 (MaxPooling (None, 75, 75, 32)        0         \n_________________________________________________________________\nconv2d_16 (Conv2D)           (None, 75, 75, 64)        18496     \n_________________________________________________________________\ndropout_12 (Dropout)         (None, 75, 75, 64)        0         \n_________________________________________________________________\nbatch_normalization_16 (Batc (None, 75, 75, 64)        256       \n_________________________________________________________________\nmax_pooling2d_16 (MaxPooling (None, 38, 38, 64)        0         \n_________________________________________________________________\nconv2d_17 (Conv2D)           (None, 38, 38, 64)        36928     \n_________________________________________________________________\nbatch_normalization_17 (Batc (None, 38, 38, 64)        256       \n_________________________________________________________________\nmax_pooling2d_17 (MaxPooling (None, 19, 19, 64)        0         \n_________________________________________________________________\nconv2d_18 (Conv2D)           (None, 19, 19, 128)       73856     \n_________________________________________________________________\ndropout_13 (Dropout)         (None, 19, 19, 128)       0         \n_________________________________________________________________\nbatch_normalization_18 (Batc (None, 19, 19, 128)       512       \n_________________________________________________________________\nmax_pooling2d_18 (MaxPooling (None, 10, 10, 128)       0         \n_________________________________________________________________\nconv2d_19 (Conv2D)           (None, 10, 10, 256)       295168    \n_________________________________________________________________\ndropout_14 (Dropout)         (None, 10, 10, 256)       0         \n_________________________________________________________________\nbatch_normalization_19 (Batc (None, 10, 10, 256)       1024      \n_________________________________________________________________\nmax_pooling2d_19 (MaxPooling (None, 5, 5, 256)         0         \n_________________________________________________________________\nflatten_3 (Flatten)          (None, 6400)              0         \n_________________________________________________________________\ndense_6 (Dense)              (None, 128)               819328    \n_________________________________________________________________\ndropout_15 (Dropout)         (None, 128)               0         \n_________________________________________________________________\ndense_7 (Dense)              (None, 1)                 129       \n=================================================================\nTotal params: 1,246,401\nTrainable params: 1,245,313\nNon-trainable params: 1,088\n_________________________________________________________________\n",
          "output_type": "stream"
        }
      ],
      "execution_count": null
    },
    {
      "cell_type": "code",
      "source": [
        "learning_rate_reduction = ReduceLROnPlateau(monitor='accuracy', patience=2, verbose=1, factor=0.3, min_lr=0.000001)\n",
        "\n",
        "history = model.fit(\n",
        "    data_generator.flow(x_train, y_train, batch_size=32),#from here we will se the training accuacy that the model gives and also if the loss is decreasing\n",
        "    epochs=10,\n",
        "    callbacks=[learning_rate_reduction]\n",
        ")"
      ],
      "metadata": {
        "execution": {
          "iopub.status.busy": "2025-04-18T06:18:04.255952Z",
          "iopub.execute_input": "2025-04-18T06:18:04.256248Z",
          "iopub.status.idle": "2025-04-18T06:19:45.721273Z",
          "shell.execute_reply.started": "2025-04-18T06:18:04.256220Z",
          "shell.execute_reply": "2025-04-18T06:19:45.720595Z"
        },
        "trusted": true,
        "id": "p6R7obNWgAwN",
        "outputId": "a24a89c3-cca5-4ab4-9ca2-81b8fcd45283"
      },
      "outputs": [
        {
          "name": "stdout",
          "text": "Epoch 1/10\n163/163 [==============================] - 21s 54ms/step - loss: 1.2947 - accuracy: 0.8072\nEpoch 2/10\n163/163 [==============================] - 9s 54ms/step - loss: 0.2788 - accuracy: 0.8949\nEpoch 3/10\n163/163 [==============================] - 9s 56ms/step - loss: 0.2133 - accuracy: 0.9147\nEpoch 4/10\n163/163 [==============================] - 9s 54ms/step - loss: 0.1966 - accuracy: 0.9244\nEpoch 5/10\n163/163 [==============================] - 9s 54ms/step - loss: 0.1856 - accuracy: 0.9346\nEpoch 6/10\n163/163 [==============================] - 9s 55ms/step - loss: 0.1459 - accuracy: 0.9497\nEpoch 7/10\n163/163 [==============================] - 9s 54ms/step - loss: 0.1497 - accuracy: 0.9548\nEpoch 8/10\n163/163 [==============================] - 9s 54ms/step - loss: 0.1518 - accuracy: 0.9473\n\nEpoch 00008: ReduceLROnPlateau reducing learning rate to 0.0003000000142492354.\nEpoch 9/10\n163/163 [==============================] - 9s 54ms/step - loss: 0.0994 - accuracy: 0.9628\nEpoch 10/10\n163/163 [==============================] - 9s 56ms/step - loss: 0.0905 - accuracy: 0.9715\n",
          "output_type": "stream"
        }
      ],
      "execution_count": null
    },
    {
      "cell_type": "code",
      "source": [
        "print(\"Loss of the model is - \" , model.evaluate(x_test,y_test)[0])\n",
        "print(\"Accuracy of the model is - \" , model.evaluate(x_test,y_test)[1]*100 , \"%\")"
      ],
      "metadata": {
        "execution": {
          "iopub.status.busy": "2025-04-18T06:19:57.834652Z",
          "iopub.execute_input": "2025-04-18T06:19:57.835388Z",
          "iopub.status.idle": "2025-04-18T06:19:58.901228Z",
          "shell.execute_reply.started": "2025-04-18T06:19:57.835349Z",
          "shell.execute_reply": "2025-04-18T06:19:58.900539Z"
        },
        "trusted": true,
        "id": "0EkWDEvzgAwP",
        "outputId": "694c3fac-8075-4f6e-cb84-c15f943af152"
      },
      "outputs": [
        {
          "name": "stdout",
          "text": "20/20 [==============================] - 1s 22ms/step - loss: 0.3508 - accuracy: 0.9199\nLoss of the model is -  0.35083287954330444\n20/20 [==============================] - 0s 11ms/step - loss: 0.3508 - accuracy: 0.9199\nAccuracy of the model is -  91.98718070983887 %\n",
          "output_type": "stream"
        }
      ],
      "execution_count": null
    },
    {
      "cell_type": "markdown",
      "source": [
        "# Therefore the accuracy that we get from the unseen data that is the testing data through the CNN method is 92 percent"
      ],
      "metadata": {
        "id": "BkLqwts9gAwQ"
      }
    },
    {
      "cell_type": "code",
      "source": [
        "predictions = model.predict_classes(x_test)\n",
        "predictions = predictions.reshape(1,-1)[0]\n",
        "predictions[:30]\n",
        "from sklearn.metrics import classification_report,confusion_matrix"
      ],
      "metadata": {
        "trusted": true,
        "execution": {
          "iopub.status.busy": "2025-04-18T06:24:59.252551Z",
          "iopub.execute_input": "2025-04-18T06:24:59.252822Z",
          "iopub.status.idle": "2025-04-18T06:24:59.565638Z",
          "shell.execute_reply.started": "2025-04-18T06:24:59.252788Z",
          "shell.execute_reply": "2025-04-18T06:24:59.565077Z"
        },
        "id": "7hxxf6PFgAwS"
      },
      "outputs": [],
      "execution_count": null
    },
    {
      "cell_type": "code",
      "source": [
        "print(\"THE CLASSIFICATION REPORT OF CNN IS AS FOLLOWS:\")\n",
        "print(classification_report(y_test, predictions, target_names = ['Pneumonia ','Normal ']))"
      ],
      "metadata": {
        "trusted": true,
        "execution": {
          "iopub.status.busy": "2025-04-18T06:27:45.577369Z",
          "iopub.execute_input": "2025-04-18T06:27:45.577879Z",
          "iopub.status.idle": "2025-04-18T06:27:45.585366Z",
          "shell.execute_reply.started": "2025-04-18T06:27:45.577846Z",
          "shell.execute_reply": "2025-04-18T06:27:45.584668Z"
        },
        "id": "T2fVBAS4gAwT",
        "outputId": "bb598a81-d48d-4726-ba90-f64aaea0a98d"
      },
      "outputs": [
        {
          "name": "stdout",
          "text": "THE CLASSIFICATION REPORT OF CNN IS AS FOLLOWS:\n              precision    recall  f1-score   support\n\n  Pneumonia        0.91      0.97      0.94       390\n     Normal        0.94      0.84      0.89       234\n\n    accuracy                           0.92       624\n   macro avg       0.93      0.90      0.91       624\nweighted avg       0.92      0.92      0.92       624\n\n",
          "output_type": "stream"
        }
      ],
      "execution_count": null
    },
    {
      "cell_type": "code",
      "source": [],
      "metadata": {
        "trusted": true,
        "id": "kDadklD3gAwT"
      },
      "outputs": [],
      "execution_count": null
    },
    {
      "cell_type": "code",
      "source": [],
      "metadata": {
        "trusted": true,
        "id": "IYermpuhgAwU"
      },
      "outputs": [],
      "execution_count": null
    }
  ]
}